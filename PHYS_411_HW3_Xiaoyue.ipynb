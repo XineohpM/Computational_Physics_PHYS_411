{
  "nbformat": 4,
  "nbformat_minor": 0,
  "metadata": {
    "colab": {
      "provenance": [],
      "authorship_tag": "ABX9TyPb3MGmAfgcNIOXoX20PEf3",
      "include_colab_link": true
    },
    "kernelspec": {
      "name": "python3",
      "display_name": "Python 3"
    },
    "language_info": {
      "name": "python"
    }
  },
  "cells": [
    {
      "cell_type": "markdown",
      "metadata": {
        "id": "view-in-github",
        "colab_type": "text"
      },
      "source": [
        "<a href=\"https://colab.research.google.com/github/XineohpM/Computational_Physics_PHYS_411/blob/main/PHYS_411_HW3_Xiaoyue.ipynb\" target=\"_parent\"><img src=\"https://colab.research.google.com/assets/colab-badge.svg\" alt=\"Open In Colab\"/></a>"
      ]
    },
    {
      "cell_type": "markdown",
      "source": [
        "## 1. Exercise 6.5"
      ],
      "metadata": {
        "id": "WhZjB3sol_pT"
      }
    },
    {
      "cell_type": "markdown",
      "source": [
        "**(a)** According to Kirchhoff's Law, all currents going in and out of a node sum to $0$.\n",
        "\n",
        "**For node $1$:**\n",
        "$$\\begin{gathered}\\frac{V_{1}-V_{+}}{R_{1}} +\\frac{\\text{d} }{\\text{d} t} C_{1}(V_{1}-V_{2})+\\frac{V_{1}}{R_{4}} =0\\\\ V_{1}\\left( \\frac{1}{R_{1}} +\\frac{1}{R_{4}} \\right)  -\\frac{V_{+}}{R_{1}} +C_{1}\\frac{\\text{d} }{\\text{d} t} (V_{1}-V_{2})=0\\\\ \\end{gathered} $$\n",
        ". Since $V_{1}=x_{1}e^{i\\omega t}\\text{,} \\  V_{2}=x_{2}e^{i\\omega t}$,\n",
        "$$\\begin{gathered}x_{1}e^{i\\omega t}\\left( \\frac{1}{R_{1}} +\\frac{1}{R_{4}} \\right)  +i\\omega C_{1}(x_{1}-x_{2})e^{i\\omega t}-\\frac{x_{+}}{R_{1}} e^{i\\omega t}=0\\\\ \\left( \\frac{1}{R_{1}} +\\frac{1}{R_{4}} +i\\omega C_{1}\\right)  x_{1}-i\\omega C_{1}x_{2}=\\frac{x_{+}}{R_{1}} \\end{gathered} $$.\n",
        "\n",
        "**For node $2$:**\n",
        "$$\\frac{V_{2}-V_{+}}{R_{2}} +\\frac{V_{2}}{R_{5}} +\\frac{\\text{d} }{\\text{d} t} C_{1}\\left( V_{2}-V_{1}\\right)  +\\frac{\\text{d} }{\\text{d} t} C_{2}\\left( V_{2}-V_{3}\\right)  =0$$\n",
        ". Since  $V_{1}=x_{1}e^{i\\omega t}\\text{,} \\  V_{2}=x_{2}e^{i\\omega t}\\text{,} \\  V_{3}=x_{3}e^{i\\omega t}$,\n",
        "$$-i\\omega C_{1}x_{1}+\\left( \\frac{1}{R_{2}} +\\frac{1}{R_{5}} +i\\omega C_{1}+i\\omega C_{2}\\right)  x_{2}-i\\omega C_{2}x_{3}=\\frac{x_{+}}{R_{2}} $$.\n",
        "\n",
        "**For node $3$:**\n",
        "$$\\frac{V_{3}-V_{+}}{R_{3}} +\\frac{\\text{d} }{\\text{d} t} C_{2}\\left( V_{3}-V_{2}\\right)  +\\frac{V_{3}}{R_{6}} =0$$\n",
        ". Since  $V_{2}=x_{2}e^{i\\omega t}\\text{,} \\  V_{3}=x_{3}e^{i\\omega t}$,\n",
        "$$-i\\omega C_{2}x_{2}+\\left( \\frac{1}{R_{3}} +\\frac{1}{R_{6}} +i\\omega C_{2}\\right)  x_{3}=\\frac{x_{+}}{R_{3}} $$."
      ],
      "metadata": {
        "id": "6uhRU0drdL2t"
      }
    },
    {
      "cell_type": "markdown",
      "source": [
        "**(b)**"
      ],
      "metadata": {
        "id": "wz1k6K0wmDI4"
      }
    },
    {
      "cell_type": "code",
      "execution_count": 6,
      "metadata": {
        "colab": {
          "base_uri": "https://localhost:8080/"
        },
        "id": "cp7yaGezlhoH",
        "outputId": "101b2a11-05a1-429d-faec-ec9a8392faa4"
      },
      "outputs": [
        {
          "output_type": "stream",
          "name": "stdout",
          "text": [
            "The modulus of x_1 is: 1.7014390658777336 , the phase of x_1 is: -0.09545371433271428\n",
            "The modulus of x_2 is: 1.4806053465364062 , the phase of x_2 is: 0.20216879328855675\n",
            "The modulus of x_3 is: 1.8607693200562132 , the phase of x_3 is: -0.07268725004282395\n"
          ]
        }
      ],
      "source": [
        "import numpy as np\n",
        "import cmath\n",
        "\n",
        "R_1 = 1e3 # Ohm\n",
        "R_2 = 2e3\n",
        "R_3 = 1e3\n",
        "R_4 = 2e3\n",
        "R_5 = 1e3\n",
        "R_6 = 2e3\n",
        "C_1 = 1e-6 # F\n",
        "C_2 = 0.5e-6\n",
        "x_plus = 3 # V\n",
        "omega = 1e3 # s^-1\n",
        "\n",
        "def gaussian_elimination(A, b):\n",
        "    augmented_matrix = np.hstack([A, b.reshape(-1, 1)])\n",
        "    n = len(b)\n",
        "\n",
        "    for i in range(n):\n",
        "        max_row = np.argmax(abs(augmented_matrix[i:, i])) + i\n",
        "        augmented_matrix[[i, max_row]] = augmented_matrix[[max_row, i]]\n",
        "\n",
        "        augmented_matrix[i] = augmented_matrix[i] / augmented_matrix[i, i]\n",
        "\n",
        "        for j in range(n):\n",
        "            if j != i:\n",
        "                augmented_matrix[j] = augmented_matrix[j] - augmented_matrix[j, i] * augmented_matrix[i]\n",
        "\n",
        "    return augmented_matrix[:, -1]\n",
        "\n",
        "A = np.zeros((3, 3), dtype = complex)\n",
        "A[0, 0] = (1 / R_1) + (1 / R_4) + (1j * omega * C_1)\n",
        "A[0, 1] = -1j * omega * C_1\n",
        "A[1, 0] = -1j * omega * C_1\n",
        "A[1, 1] = (1 / R_2) + (1 / R_5) + (1j * omega * C_1) + (1j * omega * C_2)\n",
        "A[1, 2] = -1j * omega * C_2\n",
        "A[2, 1] = -1j * omega * C_2\n",
        "A[2, 2] = (1 / R_3) + (1 / R_6) + (1j * omega * C_2)\n",
        "\n",
        "b = np.array([x_plus / R_1, x_plus / R_2, x_plus / R_3],  dtype = complex)\n",
        "\n",
        "x = gaussian_elimination(A, b)\n",
        "x_1_mod, x_1_phase = cmath.polar(x[0])\n",
        "print(\"The modulus of x_1 is:\", x_1_mod, \", the phase of x_1 is:\", x_1_phase)\n",
        "x_2_mod, x_2_phase = cmath.polar(x[1])\n",
        "print(\"The modulus of x_2 is:\", x_2_mod, \", the phase of x_2 is:\", x_2_phase)\n",
        "x_3_mod, x_3_phase = cmath.polar(x[2])\n",
        "print(\"The modulus of x_3 is:\", x_3_mod, \", the phase of x_3 is:\", x_3_phase)"
      ]
    },
    {
      "cell_type": "markdown",
      "source": [
        "## 2. Exercise 6.9"
      ],
      "metadata": {
        "id": "Ah4uaByanLE1"
      }
    },
    {
      "cell_type": "markdown",
      "source": [
        "**(a)**\n",
        "$$\\begin{gathered}\\hat{H} \\psi =E\\psi \\\\ \\hat{H} \\sum^{\\infty }_{n=1} \\psi_{n} \\sin \\frac{\\pi nx}{L} =E\\sum^{\\infty }_{n=1} \\psi_{n} \\sin \\frac{\\pi nx}{L} \\\\ \\hat{H} \\sum^{\\infty }_{n=1} \\psi_{n} \\sin \\frac{\\pi nx}{L} \\sin \\frac{\\pi mx}{L} =E\\sum^{\\infty }_{n=1} \\psi_{n} \\sin \\frac{\\pi nx}{L} \\sin \\frac{\\pi mx}{L} \\\\ \\int^{L}_{0} \\hat{H} \\sum^{\\infty }_{n=1} \\psi_{n} \\sin \\frac{\\pi nx}{L} \\sin \\frac{\\pi mx}{L} \\text{d} x=\\int^{L}_{0} E\\sum^{\\infty }_{n=1} \\psi_{n} \\sin \\frac{\\pi nx}{L} \\sin \\frac{\\pi mx}{L} \\text{d} x\\end{gathered} $$\n",
        "\n",
        "Rearrange the above equation, one can get\n",
        "$$\\sum^{\\infty }_{n=1} \\psi_{n} \\int^{L}_{0} \\sin \\frac{\\pi nx}{L} \\hat{H} \\sin \\frac{\\pi mx}{L} \\text{d} x=\\sum^{\\infty }_{n=1} \\int^{L}_{0} E\\psi_{n} \\sin \\frac{\\pi nx}{L} \\sin \\frac{\\pi mx}{L} \\text{d} x=\\frac{1}{2} LE\\psi_{m} $$.\n",
        "\n",
        "Then one can define the matrix $\\mathbf{H}$ as\n",
        "$$\\mathbf{H_{mn}}=\\frac{2}{L} \\int^{L}_{0} \\sin \\frac{\\pi mx}{L} \\left[ -\\frac{\\hslash^{2} }{2M} \\frac{\\text{d}^{2} }{\\text{d} x^{2}} +V(x)\\right]  \\sin \\frac{\\pi nx}{L} \\text{d} x$$."
      ],
      "metadata": {
        "id": "Y0OTNJ4-n67H"
      }
    },
    {
      "cell_type": "markdown",
      "source": [
        "**(b)**\n",
        "$$\\begin{gathered}\\mathbf{H_{mn}}=\\frac{2}{L} \\int^{L}_{0} \\sin \\frac{\\pi mx}{L} \\left( -\\frac{\\hslash^{2} }{2M} \\frac{\\text{d}^{2} }{\\text{d} x^{2}} +\\frac{ax}{L} \\right)  \\sin \\frac{\\pi nx}{L} \\text{d} x\\\\ =\\frac{\\hslash^{2} \\pi^{2} n^{2}}{ML^{3}} \\int^{L}_{0} \\sin \\frac{\\pi mx}{L} \\sin \\frac{\\pi nx}{L} \\text{d} x+\\frac{2a}{L^{2}} \\int^{L}_{0} x\\sin \\frac{\\pi mx}{L} \\sin \\frac{\\pi nx}{L} \\text{d} x\\\\ =\\begin{cases}0,&\\text{if} \\  m\\neq n,\\  \\text{and} \\  m,n\\  \\text{are both even or odd} \\\\ -\\frac{8a}{\\pi^{2} } \\frac{mn}{\\left( m^{2}-n^{2}\\right)^{2}  } ,&\\text{if} \\  m\\neq n,\\  \\text{and one is even, one is odd} \\\\ \\frac{\\hslash^{2} \\pi^{2} n^{2}}{2ML^{2}} +\\frac{a}{2} ,&\\text{if} \\  m=n\\end{cases} \\\\ =\\mathbf{H_{nm}}\\end{gathered} $$\n",
        "\n",
        "Since $\\mathbf{H_{mn}}=\\mathbf{H_{nm}}$ for all $m$ and $n$, the matrix is symmetric. Since all components of the matrix is real, the matrix itself is real.\n"
      ],
      "metadata": {
        "id": "y_Jfo9mzwM3N"
      }
    },
    {
      "cell_type": "code",
      "source": [
        "import numpy as np\n",
        "\n",
        "\n",
        "M = 9.1094e-31 # kg\n",
        "q = 1.6022e-19 # C\n",
        "a = 1.6022e-18 # J\n",
        "L = 5.0e-10 # m\n",
        "h_bar = 1.054e-34 # J * s\n",
        "\n",
        "def H_mn(m, n):\n",
        "    if (m != n) and (m % 2 == n % 2):\n",
        "        return 0\n",
        "    elif (m != n) and (m % 2 != n % 2):\n",
        "        return (-8 * a / (np.pi ** 2)) * (m * n / ((m ** 2 - n ** 2) ** 2))\n",
        "    else:\n",
        "        return ((h_bar ** 2) * (np.pi ** 2) * (n ** 2) / (2 * M * (L ** 2))) + (a / 2)"
      ],
      "metadata": {
        "id": "KXp-T6jJnNx3"
      },
      "execution_count": 12,
      "outputs": []
    },
    {
      "cell_type": "markdown",
      "source": [
        "**(c)**"
      ],
      "metadata": {
        "id": "CqpbtI9n69AH"
      }
    },
    {
      "cell_type": "code",
      "source": [
        "import numpy as np\n",
        "\n",
        "\n",
        "M = 9.1094e-31 # kg\n",
        "q = 1.6022e-19 # C\n",
        "a = 1.6022e-18 # J\n",
        "L = 5.0e-10 # m\n",
        "h_bar = 1.054e-34 # J * s\n",
        "\n",
        "def H_mn(m, n):\n",
        "    if (m != n) and (m % 2 == n % 2):\n",
        "        return 0\n",
        "    elif (m != n) and (m % 2 != n % 2):\n",
        "        return (-8 * a / (np.pi ** 2)) * (m * n / ((m ** 2 - n ** 2) ** 2))\n",
        "    else:\n",
        "        return ((h_bar ** 2) * (np.pi ** 2) * (n ** 2) / (2 * M * (L ** 2))) + (a / 2)\n",
        "\n",
        "N = 10\n",
        "H = np.zeros((N, N))\n",
        "\n",
        "for n in range(N):\n",
        "    for m in range(N):\n",
        "        H[n, m] = H_mn(m + 1, n + 1)\n",
        "\n",
        "x = np.linalg.eigvalsh(H)\n",
        "\n",
        "conversion = 1.60218e-19\n",
        "for i in range(len(x)):\n",
        "    converted = x[i] / conversion\n",
        "    print(\"n =\", i + 1, \", eigenvalue:\", converted, \"eV\")"
      ],
      "metadata": {
        "colab": {
          "base_uri": "https://localhost:8080/"
        },
        "id": "chX79Ol77T7f",
        "outputId": "2c71033f-b87a-4280-eef5-248d6198120c"
      },
      "execution_count": 13,
      "outputs": [
        {
          "output_type": "stream",
          "name": "stdout",
          "text": [
            "n = 1 , eigenvalue: 5.834155593265074 eV\n",
            "n = 2 , eigenvalue: 11.174700764284841 eV\n",
            "n = 3 , eigenvalue: 18.6483602253084 eV\n",
            "n = 4 , eigenvalue: 29.11816231893028 eV\n",
            "n = 5 , eigenvalue: 42.61428146659945 eV\n",
            "n = 6 , eigenvalue: 59.126445478477564 eV\n",
            "n = 7 , eigenvalue: 78.64926210299737 eV\n",
            "n = 8 , eigenvalue: 101.1808311535433 eV\n",
            "n = 9 , eigenvalue: 126.71890758843688 eV\n",
            "n = 10 , eigenvalue: 155.39189491148448 eV\n"
          ]
        }
      ]
    },
    {
      "cell_type": "markdown",
      "source": [
        "**(d)**"
      ],
      "metadata": {
        "id": "sVoN17Dq9Iud"
      }
    },
    {
      "cell_type": "code",
      "source": [
        "import numpy as np\n",
        "\n",
        "\n",
        "M = 9.1094e-31 # kg\n",
        "q = 1.6022e-19 # C\n",
        "a = 1.6022e-18 # J\n",
        "L = 5.0e-10 # m\n",
        "h_bar = 1.054e-34 # J * s\n",
        "\n",
        "def H_mn(m, n):\n",
        "    if (m != n) and (m % 2 == n % 2):\n",
        "        return 0\n",
        "    elif (m != n) and (m % 2 != n % 2):\n",
        "        return (-8 * a / (np.pi ** 2)) * (m * n / ((m ** 2 - n ** 2) ** 2))\n",
        "    else:\n",
        "        return ((h_bar ** 2) * (np.pi ** 2) * (n ** 2) / (2 * M * (L ** 2))) + (a / 2)\n",
        "\n",
        "N = 100\n",
        "H = np.zeros((N, N))\n",
        "\n",
        "for n in range(N):\n",
        "    for m in range(N):\n",
        "        H[n, m] = H_mn(m + 1, n + 1)\n",
        "\n",
        "x = np.linalg.eigvalsh(H)\n",
        "\n",
        "conversion = 1.60218e-19\n",
        "for i in range(10):\n",
        "    converted = x[i] / conversion\n",
        "    print(\"n =\", i + 1, \", eigenvalue:\", converted, \"eV\")"
      ],
      "metadata": {
        "colab": {
          "base_uri": "https://localhost:8080/"
        },
        "id": "cLEm34nS9fiH",
        "outputId": "c5bbfb02-163b-4e00-802d-f4d309b202ee"
      },
      "execution_count": 15,
      "outputs": [
        {
          "output_type": "stream",
          "name": "stdout",
          "text": [
            "n = 1 , eigenvalue: 5.834155191673028 eV\n",
            "n = 2 , eigenvalue: 11.17469943947666 eV\n",
            "n = 3 , eigenvalue: 18.648358352014966 eV\n",
            "n = 4 , eigenvalue: 29.118153509163907 eV\n",
            "n = 5 , eigenvalue: 42.61427233547955 eV\n",
            "n = 6 , eigenvalue: 59.12639283438576 eV\n",
            "n = 7 , eigenvalue: 78.64921020993076 eV\n",
            "n = 8 , eigenvalue: 101.18019946665396 eV\n",
            "n = 9 , eigenvalue: 126.71807372815658 eV\n",
            "n = 10 , eigenvalue: 155.26212868342614 eV\n"
          ]
        }
      ]
    },
    {
      "cell_type": "markdown",
      "source": [
        "When $N=100$, the calculated eigenvalues are more accurate (closed to the actual value) than the calculated eigenvalues when $N=10$."
      ],
      "metadata": {
        "id": "Z-VogQue-BJK"
      }
    },
    {
      "cell_type": "markdown",
      "source": [
        "**(e)**"
      ],
      "metadata": {
        "id": "eeBYuHJ3-jeh"
      }
    },
    {
      "cell_type": "code",
      "source": [
        "import matplotlib.pyplot as plt\n",
        "\n",
        "\n",
        "N = 100\n",
        "E, psi = np.linalg.eigh(H)\n",
        "\n",
        "def V(x):\n",
        "    return a * x / L\n",
        "\n",
        "def psi_n(n, x):\n",
        "    psi_0 = 0\n",
        "    for m in range(N):\n",
        "        psi_0 += np.sqrt(2 / L) * psi[n][m] * np.sin(np.pi * (m + 1) * x / L)\n",
        "    return psi_0\n",
        "\n",
        "x = np.linspace(0, L, N + 1)\n",
        "v = [V(x_i) for x_i in x]\n",
        "psi_0 = np.array([psi_n(0, x_i) for x_i in x])\n",
        "psi_1 = np.array([psi_n(1, x_i) for x_i in x])\n",
        "psi_2 = np.array([psi_n(2, x_i) for x_i in x])\n",
        "psi0_squared = [(psi ** 2) for psi in psi_0]\n",
        "psi1_squared = [(psi ** 2) for psi in psi_1]\n",
        "psi2_squared = [(psi ** 2) for psi in psi_2]\n",
        "\n",
        "plt.plot(x, psi0_squared, 'r', label = \"(psi_0)^2\")\n",
        "plt.plot(x, psi1_squared, 'g', label = \"(psi_1)^2\")\n",
        "plt.plot(x, psi2_squared, 'b', label = \"(psi_2)^2\")\n",
        "plt.xlabel('x / m')\n",
        "plt.legend()\n",
        "plt.show()\n",
        "\n",
        "# Check the normalization\n",
        "tol = 1e-6\n",
        "\n",
        "def simpson_rule(y, h):\n",
        "    n = len(y)\n",
        "    if n % 2 == 0:\n",
        "        return None\n",
        "\n",
        "    result = y[0] + y[n - 1] + 4 * sum(y[1: n - 1: 2]) + 2 * sum(y[2: n - 2: 2])\n",
        "    result *= h / 3\n",
        "    return result\n",
        "\n",
        "integral_psi0 = simpson_rule(psi0_squared, x[1] - x[0])\n",
        "integral_psi1 = simpson_rule(psi1_squared, x[1] - x[0])\n",
        "integral_psi2 = simpson_rule(psi2_squared, x[1] - x[0])\n",
        "\n",
        "if (1 - integral_psi0 < tol) and (1 - integral_psi1 < tol) and (1 - integral_psi2 < tol):\n",
        "    print(\"The squares of the wavefunctions are normalized.\")\n",
        "elif 1 - integral_psi0 >= tol:\n",
        "    print(\"The square of psi_0 is not normalized.\")\n",
        "elif 1 - integral_psi1 >= tol:\n",
        "    print(\"The square of psi_1 is not normalized.\")\n",
        "elif 1 - integral_psi2 >= tol:\n",
        "    print(\"The square of psi_2 is not normalized.\")"
      ],
      "metadata": {
        "colab": {
          "base_uri": "https://localhost:8080/",
          "height": 483
        },
        "id": "mXc5jflf_3tr",
        "outputId": "e2599ccf-52a7-4cfe-8b06-ccf2b2361e57"
      },
      "execution_count": 27,
      "outputs": [
        {
          "output_type": "display_data",
          "data": {
            "text/plain": [
              "<Figure size 640x480 with 1 Axes>"
            ],
            "image/png": "[encoded data removed]"
          },
          "metadata": {}
        },
        {
          "output_type": "stream",
          "name": "stdout",
          "text": [
            "The squares of the wavefunctions are normalized.\n"
          ]
        }
      ]
    },
    {
      "cell_type": "markdown",
      "source": [
        "## 3. Exercise 6.10"
      ],
      "metadata": {
        "id": "iB-ydXnJFDdd"
      }
    },
    {
      "cell_type": "markdown",
      "source": [
        "**(a)**"
      ],
      "metadata": {
        "id": "ovZa66b_GUwk"
      }
    },
    {
      "cell_type": "code",
      "source": [
        "import numpy as np\n",
        "\n",
        "\n",
        "tol = 1e-6\n",
        "\n",
        "def g(c):\n",
        "    iterations = 1\n",
        "    def f(x):\n",
        "        return 1 - np.exp(- c * x)\n",
        "\n",
        "    def diff_f(x):\n",
        "        dx = 1e-8\n",
        "        return (f(x + dx) - f(x - dx)) / (2 * dx)\n",
        "\n",
        "    def error(x_1, x_2):\n",
        "        if np.abs(c * f(x_1)) < 1e-10:\n",
        "            return 0\n",
        "        return (x_1 - x_2) / (1 - 1 / diff_f(x_1))\n",
        "\n",
        "    x_1 = 0.5\n",
        "    x_2 = f(x_1)\n",
        "    while(abs(error(x_1, x_2)) > tol):\n",
        "        x_1 = x_2\n",
        "        x_2 = f(x_2)\n",
        "        iterations += 1\n",
        "    return x_2\n",
        "\n",
        "print(\"The approximated value of x when c = 2 is:\", g(2))"
      ],
      "metadata": {
        "colab": {
          "base_uri": "https://localhost:8080/"
        },
        "id": "n1a60S3LGWjM",
        "outputId": "17483fba-ee08-4bb4-b4cf-fbbbffc34abc"
      },
      "execution_count": 76,
      "outputs": [
        {
          "output_type": "stream",
          "name": "stdout",
          "text": [
            "The approximated value of x when c = 2 is: 0.7968113781935964\n"
          ]
        }
      ]
    },
    {
      "cell_type": "markdown",
      "source": [
        "**(b)**"
      ],
      "metadata": {
        "id": "f2FqcS92IXCS"
      }
    },
    {
      "cell_type": "code",
      "source": [
        "import matplotlib.pyplot as plt\n",
        "\n",
        "\n",
        "pts = int((3 - 0) / 0.01) + 1\n",
        "c = np.linspace(0, 3, pts)\n",
        "x = [g(c_i) for c_i in c]\n",
        "\n",
        "plt.plot(c, x)"
      ],
      "metadata": {
        "colab": {
          "base_uri": "https://localhost:8080/",
          "height": 448
        },
        "id": "a7vZkdXgIvd5",
        "outputId": "4e0c7d39-518e-4a0e-ea3e-e159ce2b9713"
      },
      "execution_count": 77,
      "outputs": [
        {
          "output_type": "execute_result",
          "data": {
            "text/plain": [
              "[<matplotlib.lines.Line2D at 0x7dfc7cffae30>]"
            ]
          },
          "metadata": {},
          "execution_count": 77
        },
        {
          "output_type": "display_data",
          "data": {
            "text/plain": [
              "<Figure size 640x480 with 1 Axes>"
            ],
            "image/png": "[encoded data removed]"
          },
          "metadata": {}
        }
      ]
    },
    {
      "cell_type": "markdown",
      "source": [
        "## 4. Exercise 6.11"
      ],
      "metadata": {
        "id": "piuEpctyOBL3"
      }
    },
    {
      "cell_type": "markdown",
      "source": [
        "**(a)**\n",
        "$$\\begin{gathered}\\epsilon^{\\prime } =\\epsilon \\left[ \\left( 1+\\omega \\right)  f^{\\prime }(x^{\\ast })-\\omega \\right]  \\\\ x^{\\ast }=x+\\epsilon =x+\\frac{\\epsilon^{\\prime } }{\\left( 1+\\omega \\right)  f^{\\prime }(x^{\\ast })-\\omega } =x^{\\prime }+\\epsilon^{\\prime } \\\\ \\epsilon^{\\prime } =\\frac{x-x^{\\prime }}{1-\\frac{1}{\\left( 1+\\omega \\right)  f^{\\prime }(x^{\\ast })-\\omega } } \\approx \\frac{x-x^{\\prime }}{1-\\frac{1}{\\left( 1+\\omega \\right)  f^{\\prime }(x)-\\omega } } \\end{gathered} $$"
      ],
      "metadata": {
        "id": "O52J7s0OODuz"
      }
    },
    {
      "cell_type": "markdown",
      "source": [
        "**(b)**"
      ],
      "metadata": {
        "id": "bmYe0pGQWFjb"
      }
    },
    {
      "cell_type": "code",
      "source": [
        "import numpy as np\n",
        "\n",
        "\n",
        "tol = 1e-6\n",
        "\n",
        "def g(c):\n",
        "    iterations = 1\n",
        "    def f(x):\n",
        "        return 1 - np.exp(- c * x)\n",
        "\n",
        "    def diff_f(x):\n",
        "        dx = 1e-8\n",
        "        return (f(x + dx) - f(x - dx)) / (2 * dx)\n",
        "\n",
        "    def error(x_1, x_2):\n",
        "        if np.abs(c * f(x_1)) < 1e-10:\n",
        "            return 0\n",
        "        return (x_1 - x_2) / (1 - 1 / diff_f(x_1))\n",
        "\n",
        "    x_1 = 0.5\n",
        "    x_2 = f(x_1)\n",
        "    while(abs(error(x_1, x_2)) > tol):\n",
        "        x_1 = x_2\n",
        "        x_2 = f(x_2)\n",
        "        iterations += 1\n",
        "    return x_2, iterations\n",
        "\n",
        "result, iteration = g(2)\n",
        "print(\"The approximated value of x when c = 2 is:\", result, \"with\", iteration, \"iterations to converge to a solution accurate to 1e-6.\")"
      ],
      "metadata": {
        "colab": {
          "base_uri": "https://localhost:8080/"
        },
        "id": "JOIeLqd_WTUt",
        "outputId": "9fc436fb-dc27-4dbc-940d-2d1b81ebf46f"
      },
      "execution_count": 75,
      "outputs": [
        {
          "output_type": "stream",
          "name": "stdout",
          "text": [
            "The approximated value of x when c = 2 is: 0.7968113781935964 with 15 iterations to converge to a solution accurate to 1e-6.\n"
          ]
        }
      ]
    },
    {
      "cell_type": "markdown",
      "source": [
        "**(c)**"
      ],
      "metadata": {
        "id": "x8TsA1sxW9_O"
      }
    },
    {
      "cell_type": "code",
      "source": [
        "import numpy as np\n",
        "\n",
        "\n",
        "tol = 1e-6\n",
        "\n",
        "def g(c, w):\n",
        "    iterations = 1\n",
        "    def f(x):\n",
        "        return 1 - np.exp(- c * x)\n",
        "\n",
        "    def diff_f(x):\n",
        "        dx = 1e-8\n",
        "        return (f(x + dx) - f(x - dx)) / (2 * dx)\n",
        "\n",
        "    def error(x_1, x_2):\n",
        "        if np.abs(c * f(x_1)) < 1e-10:\n",
        "            return 0\n",
        "        return (x_1 - x_2) / (1 - 1 / diff_f(x_1))\n",
        "\n",
        "    x_1 = 0.5\n",
        "    x_2 = f(x_1)\n",
        "    while (abs(error(x_1, x_2)) > tol):\n",
        "        x_1 = x_2\n",
        "        x_2 = (1 + w) * f(x_2) - w * x_2\n",
        "        iterations += 1\n",
        "    return x_2, iterations\n",
        "\n",
        "w = np.linspace(0.5, 1.5, 21)\n",
        "results = [g(2, w_i) for w_i in w]\n",
        "root, iteration = zip(*results)\n",
        "min_iteration = iteration[0]\n",
        "min_iteration_index = 0\n",
        "for i in range(20):\n",
        "    print(\"With w =\", round(w[i], 2), \"the approximated value of x is:\", root[i], \"with\", iteration[i], \"iterations.\")\n",
        "    if iteration[i] < min_iteration:\n",
        "        min_iteration = iteration[i]\n",
        "        min_iteration_index = i\n",
        "print(\"The minimum number of iterations used is:\", min_iteration, \", this appears when w =\", round(w[min_iteration_index], 2))"
      ],
      "metadata": {
        "colab": {
          "base_uri": "https://localhost:8080/"
        },
        "id": "7x4Po2iqXBux",
        "outputId": "b15a1d6f-7a27-4853-b77c-9b615460e482"
      },
      "execution_count": 74,
      "outputs": [
        {
          "output_type": "stream",
          "name": "stdout",
          "text": [
            "With w = 0.5 the approximated value of x is: 0.7968120512819613 with 8 iterations.\n",
            "With w = 0.55 the approximated value of x is: 0.796812119154019 with 8 iterations.\n",
            "With w = 0.6 the approximated value of x is: 0.7968121174655806 with 7 iterations.\n",
            "With w = 0.65 the approximated value of x is: 0.7968121222749276 with 6 iterations.\n",
            "With w = 0.7 the approximated value of x is: 0.7968121227737799 with 5 iterations.\n",
            "With w = 0.75 the approximated value of x is: 0.7968121049654615 with 6 iterations.\n",
            "With w = 0.8 the approximated value of x is: 0.796812144682366 with 7 iterations.\n",
            "With w = 0.85 the approximated value of x is: 0.7968121879348897 with 7 iterations.\n",
            "With w = 0.9 the approximated value of x is: 0.796812210470139 with 7 iterations.\n",
            "With w = 0.95 the approximated value of x is: 0.7968119450630142 with 7 iterations.\n",
            "With w = 1.0 the approximated value of x is: 0.7968120791986897 with 9 iterations.\n",
            "With w = 1.05 the approximated value of x is: 0.7968118866507535 with 9 iterations.\n",
            "With w = 1.1 the approximated value of x is: 0.7968123390372884 with 10 iterations.\n",
            "With w = 1.15 the approximated value of x is: 0.7968119440834158 with 11 iterations.\n",
            "With w = 1.2 the approximated value of x is: 0.7968123052813672 with 12 iterations.\n",
            "With w = 1.25 the approximated value of x is: 0.796811953775874 with 13 iterations.\n",
            "With w = 1.3 the approximated value of x is: 0.7968123192998602 with 14 iterations.\n",
            "With w = 1.35 the approximated value of x is: 0.7968119132013238 with 15 iterations.\n",
            "With w = 1.4 the approximated value of x is: 0.7968123943303069 with 16 iterations.\n",
            "With w = 1.45 the approximated value of x is: 0.7968117880193992 with 17 iterations.\n",
            "The minimum number of iterations used is: 5 , this appears when w = 0.7\n"
          ]
        }
      ]
    },
    {
      "cell_type": "markdown",
      "source": [
        "**(d)** Yes. This could be in cases where the function is periodic or has a symmetric structure such that overshooting the solution with negative $\\omega$ actually brings the iteration closer to another equivalent solution."
      ],
      "metadata": {
        "id": "IVceiXc5aXDU"
      }
    },
    {
      "cell_type": "markdown",
      "source": [
        "## 5. Exercise 6.12"
      ],
      "metadata": {
        "id": "f-pLZjkFbWLd"
      }
    },
    {
      "cell_type": "markdown",
      "source": [
        "**(a)**\n",
        "$$\\begin{cases}-x+ay+x^{2}y=0&(1)\\\\ b-ay-x^{2}y=0&(2)\\end{cases} $$\n",
        "$(1)+(2)$, one can get\n",
        "$$x=b$$.\n",
        "Substitute the value of $x$ back into $(2)$, one can get\n",
        "$$y=\\frac{b}{a+b^{2}} $$."
      ],
      "metadata": {
        "id": "z9Isbiyvcooa"
      }
    },
    {
      "cell_type": "markdown",
      "source": [
        "**(b)**"
      ],
      "metadata": {
        "id": "NVsZWH7AdYL6"
      }
    },
    {
      "cell_type": "code",
      "source": [
        "import numpy as np\n",
        "\n",
        "a = 1\n",
        "b = 2\n",
        "tol = 1e-6\n",
        "max_iteration = 1000\n",
        "\n",
        "def f_x(y, x):\n",
        "    try:\n",
        "        return y * (a + x ** 2)\n",
        "    except OverflowError:\n",
        "        return float('inf')\n",
        "\n",
        "def f_y(y):\n",
        "    try:\n",
        "        return b / (a + y ** 2)\n",
        "    except OverflowError:\n",
        "        return float('inf')\n",
        "\n",
        "def diff_x(y, x):\n",
        "    dx = 1e-8\n",
        "    try:\n",
        "        return (f_x(y, x + dx) - f_x(y, x - dx)) / (2 * dx)\n",
        "    except OverflowError:\n",
        "        return float('inf')\n",
        "\n",
        "def diff_y(y):\n",
        "    dy = 1e-8\n",
        "    try:\n",
        "        return (f_y(y + dy) - f_y(y - dy)) / (2 * dy)\n",
        "    except OverflowError:\n",
        "        return float('inf')\n",
        "\n",
        "def relaxation_method():\n",
        "    x = 0.5\n",
        "    y = 0.5\n",
        "\n",
        "    for i in range(max_iteration):\n",
        "        x_new = f_x(y, x)\n",
        "        y_new = f_y(y)\n",
        "\n",
        "        if np.abs(x_new) == float('inf') or np.abs(y_new) == float('inf'):\n",
        "            print(\"Overflow occurred.\")\n",
        "            return None, i\n",
        "\n",
        "        if np.abs(x - x_new) < tol and np.abs(y - y_new) < tol:\n",
        "            print(\"The function has converged.\")\n",
        "            return (x_new, y_new), i\n",
        "\n",
        "        x, y = x_new, y_new\n",
        "\n",
        "    print(\"The function does not converge within the given times of iterations.\")\n",
        "    return None, max_iteration\n",
        "\n",
        "result, num_iterations = relaxation_method()\n",
        "print(\"The stationary point is:\", result)\n",
        "print(\"Number of iterations is:\", num_iterations)\n"
      ],
      "metadata": {
        "colab": {
          "base_uri": "https://localhost:8080/"
        },
        "id": "FqpIIPSIde4w",
        "outputId": "086c38a4-dfd5-4fb7-e730-eb3f32ab4300"
      },
      "execution_count": 85,
      "outputs": [
        {
          "output_type": "stream",
          "name": "stdout",
          "text": [
            "Overflow occurred.\n",
            "The stationary point is: None\n",
            "Number of iterations is: 12\n"
          ]
        }
      ]
    },
    {
      "cell_type": "markdown",
      "source": [
        "**(c)**\n",
        "$$x=\\sqrt{\\frac{b-ay}{y} } ,\\  y=\\frac{x}{a+x^{2}} $$"
      ],
      "metadata": {
        "id": "IYB9ikLc_aca"
      }
    },
    {
      "cell_type": "code",
      "source": [
        "import numpy as np\n",
        "\n",
        "a = 1\n",
        "b = 2\n",
        "tol = 1e-6\n",
        "max_iteration = 1000\n",
        "\n",
        "def f_x(y):\n",
        "    try:\n",
        "        return np.sqrt((b - a * y) / y)\n",
        "    except OverflowError:\n",
        "        return float('inf')\n",
        "\n",
        "def f_y(x):\n",
        "    try:\n",
        "        return x / (a + (x ** 2))\n",
        "    except OverflowError:\n",
        "        return float('inf')\n",
        "\n",
        "def diff_x(y):\n",
        "    dy = 1e-8\n",
        "    try:\n",
        "        return (f_x(y + dy) - f_x(y - dy)) / (2 * dy)\n",
        "    except OverflowError:\n",
        "        return float('inf')\n",
        "\n",
        "def diff_y(x):\n",
        "    dx = 1e-8\n",
        "    try:\n",
        "        return (f_y(x + dx) - f_y(x - dx)) / (2 * dx)\n",
        "    except OverflowError:\n",
        "        return float('inf')\n",
        "\n",
        "def relaxation_method():\n",
        "    x = 0.5\n",
        "    y = 0.5\n",
        "\n",
        "    for i in range(max_iteration):\n",
        "        x_new = f_x(y)\n",
        "        y_new = f_y(x)\n",
        "\n",
        "        if np.abs(x_new) == float('inf') or np.abs(y_new) == float('inf'):\n",
        "            print(\"Overflow occurred.\")\n",
        "            return None, i\n",
        "\n",
        "        if np.abs(x - x_new) < tol and np.abs(y - y_new) < tol:\n",
        "            print(\"The function has converged.\")\n",
        "            return (x_new, y_new), i\n",
        "\n",
        "        x, y = x_new, y_new\n",
        "\n",
        "    print(\"The function does not converge within the given times of iterations.\")\n",
        "    return None, max_iteration\n",
        "\n",
        "result, num_iterations = relaxation_method()\n",
        "print(\"The stationary point is:\", result)\n",
        "print(\"Number of iterations is:\", num_iterations)"
      ],
      "metadata": {
        "colab": {
          "base_uri": "https://localhost:8080/"
        },
        "id": "g1A7WgNWBBRH",
        "outputId": "d931f379-3f80-493f-f882-98d1316ca480"
      },
      "execution_count": 86,
      "outputs": [
        {
          "output_type": "stream",
          "name": "stdout",
          "text": [
            "The function has converged.\n",
            "The stationary point is: (1.9999992539609281, 0.4)\n",
            "Number of iterations is: 26\n"
          ]
        }
      ]
    },
    {
      "cell_type": "markdown",
      "source": [
        "## 6. Exercise 6.16"
      ],
      "metadata": {
        "id": "P_52Z6ogBoOM"
      }
    },
    {
      "cell_type": "markdown",
      "source": [
        "**(a)**\n",
        "$$\\begin{gathered}F_{earth}=\\frac{GMm_{sat}}{r^{2}} \\\\ F_{moon}=\\frac{Gmm_{sat}}{(R-r)^{2}} \\\\ F_{centripetal}=m\\omega^{2} r=F_{earth}-F_{moon}\\\\ \\frac{GM}{r^{2}} -\\frac{Gm}{(R-r)^{2}} =\\omega^{2} r\\end{gathered} $$"
      ],
      "metadata": {
        "id": "nEp_CLuADf46"
      }
    },
    {
      "cell_type": "markdown",
      "source": [
        "**(b)**"
      ],
      "metadata": {
        "id": "jr55YiqbDjvk"
      }
    },
    {
      "cell_type": "code",
      "source": [
        "import numpy as np\n",
        "\n",
        "\n",
        "G = 6.674e-11 # m^3 kg^-1 s^-2\n",
        "M = 5.974e24 # kg\n",
        "m = 7.348e22 # kg\n",
        "R = 3.844e8 # m\n",
        "omega = 2.662e-6 # s^-1\n",
        "tol = 1e-6\n",
        "\n",
        "def f(r):\n",
        "    return (G * M / (r ** 2)) - (G * m / ((R - r) ** 2)) - (omega ** 2) * R\n",
        "\n",
        "def diff(r):\n",
        "    dr = 1e-8\n",
        "    return (f(r + dr) - f(r - dr)) / (2 * dr)\n",
        "\n",
        "def secant():\n",
        "    r_i = 5.0e4\n",
        "    r_i_new = 5.0e7\n",
        "    r = r_i_new - f(r_i_new) * (r_i_new - r_i) / (f(r_i_new) - f(r_i))\n",
        "\n",
        "    while np.abs(f(r)) > tol:\n",
        "        r = r_i_new - f(r_i_new) * (r_i_new - r_i) / (f(r_i_new) - f(r_i))\n",
        "        r_i = r_i_new\n",
        "        r_i_new = r\n",
        "\n",
        "    return r\n",
        "\n",
        "print(\"The estimated value of r is:\", secant(), \"m\")"
      ],
      "metadata": {
        "colab": {
          "base_uri": "https://localhost:8080/"
        },
        "id": "kD2s_3yZELgr",
        "outputId": "f12e522d-b9e1-4e94-c81c-458a113a412c"
      },
      "execution_count": 104,
      "outputs": [
        {
          "output_type": "stream",
          "name": "stdout",
          "text": [
            "The estimated value of r is: 319780776.37246037 m\n"
          ]
        }
      ]
    },
    {
      "cell_type": "markdown",
      "source": [
        "## 7. Exercise 6.17"
      ],
      "metadata": {
        "id": "iHhBdfMUN1e7"
      }
    },
    {
      "cell_type": "markdown",
      "source": [
        "**(a)**\n",
        "$$\\frac{V_{2}-V_{+}}{R_{3}} +\\frac{V_{2}}{R_{4}} -I_{0}\\left( e^{\\frac{V_{1}-V_{2}}{V_{T}} }-1\\right)  =0$$"
      ],
      "metadata": {
        "id": "plfBO3ZqN4mp"
      }
    },
    {
      "cell_type": "markdown",
      "source": [
        "**(b)**"
      ],
      "metadata": {
        "id": "rUu2rTNus0JR"
      }
    },
    {
      "cell_type": "code",
      "source": [
        "import numpy as np\n",
        "\n",
        "\n",
        "V_plus = 5\n",
        "V_T = 0.05\n",
        "R_1 = 1e3\n",
        "R_2 = 4e3\n",
        "R_3 = 3e3\n",
        "R_4 = 2e3\n",
        "I_0 = 3e-9\n",
        "tol = 1e-6\n",
        "\n",
        "def f_1(V_1, V_2):\n",
        "    return ((V_1 - V_plus) / R_1) + (V_1 / R_2) + I_0 * (np.exp((V_1 - V_2) / V_T) - 1)\n",
        "\n",
        "def f_2(V_1, V_2):\n",
        "    return ((V_2 - V_plus) / R_3) + (V_2 / R_4) - I_0 * (np.exp((V_1 - V_2) / V_T) - 1)\n",
        "\n",
        "def diff_1_V_1(V_1, V_2):\n",
        "    dV_1 = 1e-8\n",
        "    return (f_1(V_1 + dV_1, V_2) - f_1(V_1 - dV_1, V_2)) / (2 * dV_1)\n",
        "\n",
        "def diff_1_V_2(V_1, V_2):\n",
        "    dV_2 = 1e-8\n",
        "    return (f_1(V_1, V_2 + dV_2) - f_1(V_1, V_2 - dV_2)) / (2 * dV_2)\n",
        "\n",
        "def diff_2_V_1(V_1, V_2):\n",
        "    dV_1 = 1e-8\n",
        "    return (f_2(V_1 + dV_1, V_2) - f_2(V_1 - dV_1, V_2)) / (2 * dV_1)\n",
        "\n",
        "def diff_2_V_2(V_1, V_2):\n",
        "    dV_2 = 1e-8\n",
        "    return (f_2(V_1, V_2 + dV_2) - f_2(V_1, V_2 - dV_2)) / (2 * dV_2)\n",
        "\n",
        "def Jacobian(V_1, V_2):\n",
        "    jacobian = np.zeros((2, 2))\n",
        "    jacobian[0, 0] = diff_1_V_1(V_1, V_2)\n",
        "    jacobian[0, 1] = diff_1_V_2(V_1, V_2)\n",
        "    jacobian[1, 0] = diff_2_V_1(V_1, V_2)\n",
        "    jacobian[1, 1] = diff_2_V_2(V_1, V_2)\n",
        "    return jacobian\n",
        "\n",
        "def inverse(J):\n",
        "    det = J[0, 0] * J[1, 1] - J[0, 1] * J[1, 0]\n",
        "    if det == 0:\n",
        "        raise ValueError(\"The matrix cannot be inverted.\")\n",
        "\n",
        "    inv_J = np.zeros_like(J)\n",
        "    inv_J[0, 0], inv_J[1, 1] = J[1, 1], J[0, 0]\n",
        "    inv_J[0, 1], inv_J[1, 0] = -J[0, 1], -J[1, 0]\n",
        "\n",
        "    return inv_J / det\n",
        "\n",
        "def norm(vec):\n",
        "    return vec[0] ** 2 + vec[1] ** 2\n",
        "\n",
        "def newton(f_1, f_2, jacobian, V_1, V_2):\n",
        "    v_1, v_2 = V_1, V_2\n",
        "    j_inv = inverse(Jacobian(v_1, v_2))\n",
        "    F = np.array([f_1(v_1, v_2), f_2(v_1, v_2)])\n",
        "    delta = j_inv @ F\n",
        "    while norm(delta) > tol ** 2:\n",
        "        j_inv = inverse(Jacobian(v_1, v_2))\n",
        "        F = np.array([f_1(v_1, v_2), f_2(v_1, v_2)])\n",
        "        delta = j_inv @ F\n",
        "        v_1_new, v_2_new = np.array([v_1, v_2]) - delta\n",
        "        v_1, v_2 = v_1_new, v_2_new\n",
        "    return v_1, v_2\n",
        "\n",
        "V_1, V_2 = newton(f_1, f_2, Jacobian(3, 2), 3, 2)\n",
        "print(\"The estimated value of V_1 is:\", V_1, \", the estimated value of V_2 is:\", V_2)"
      ],
      "metadata": {
        "colab": {
          "base_uri": "https://localhost:8080/"
        },
        "id": "Xc32Zbd-vxNR",
        "outputId": "a8fcdafb-a8d6-4224-a2f5-b0f52adc5a14"
      },
      "execution_count": 10,
      "outputs": [
        {
          "output_type": "stream",
          "name": "stdout",
          "text": [
            "The estimated value of V_1 is: 3.446954618858576 , the estimated value of V_2 is: 2.8295680717121363\n"
          ]
        }
      ]
    },
    {
      "cell_type": "markdown",
      "source": [
        "**(c)**"
      ],
      "metadata": {
        "id": "l_WbtMgM21rH"
      }
    },
    {
      "cell_type": "code",
      "source": [
        "error = 0.02\n",
        "estimated_V = 0.6\n",
        "delta_V = np.abs(V_1 - V_2)\n",
        "if np.abs(delta_V - estimated_V) < error:\n",
        "    print(\"The voltage across the diode is:\", delta_V, \"V, which obeys the electronic engineer's rule of thumb for diodes.\")\n",
        "else:\n",
        "    print(\"The voltage across the diode is:\", delta_V, \"V, which does not obey the electronic engineer's rule of thumb for diodes.\")"
      ],
      "metadata": {
        "colab": {
          "base_uri": "https://localhost:8080/"
        },
        "id": "ApIFWFIX28V4",
        "outputId": "303f6f59-13cf-4826-820d-8ff56fa309d3"
      },
      "execution_count": 15,
      "outputs": [
        {
          "output_type": "stream",
          "name": "stdout",
          "text": [
            "The voltage across the diode is: 0.6173865471464395 V, which obeys the electronic engineer's rule of thumb for diodes.\n"
          ]
        }
      ]
    },
    {
      "cell_type": "markdown",
      "source": [
        "The voltage across the diode is: $0.6173865471464395\\ \\text{V}$, which obeys the electronic engineer's rule of thumb for diodes."
      ],
      "metadata": {
        "id": "zeQEdtNz35Pb"
      }
    },
    {
      "cell_type": "markdown",
      "source": [
        "## 8. Exercise 6.18"
      ],
      "metadata": {
        "id": "oOGxzoNOOlBg"
      }
    },
    {
      "cell_type": "markdown",
      "source": [
        "**(a)**"
      ],
      "metadata": {
        "id": "7-HM5ZkhO3Wa"
      }
    },
    {
      "cell_type": "code",
      "source": [
        "import numpy as np\n",
        "import matplotlib.pyplot as plt\n",
        "\n",
        "\n",
        "\n",
        "k = 1.380649e-23\n",
        "h = 6.62607015e-34\n",
        "c = 299792458\n",
        "lambda_1 = 390e-9\n",
        "lambda_2 = 750e-9\n",
        "\n",
        "def gaussxw(N):\n",
        "    # Initial approximation to roots of the Legendre polynomial\n",
        "    a = np.linspace(3, 4 * N - 1, N) / (4 * N + 2)\n",
        "    x = np.cos(np.pi * a + 1/(8 * N * N * np.tan(a)))\n",
        "\n",
        "    # Find roots using Newton's method\n",
        "    epsilon = 1e-15\n",
        "    delta = 1.0\n",
        "    while delta > epsilon:\n",
        "        p0 = np.ones(N, float)\n",
        "        p1 = np.copy(x)\n",
        "        for k in range(1, N):\n",
        "            p0, p1 = p1, ((2 * k + 1) * x * p1 - k * p0) / (k + 1)\n",
        "        dp = (N + 1) * (p0 - x * p1) / (1 - x * x)\n",
        "        dx = p1 / dp\n",
        "        x -= dx\n",
        "        delta = max(abs(dx))\n",
        "\n",
        "    # Calculate the weights\n",
        "    w = 2 * (N + 1) * (N + 1) / (N * N * (1 - x * x) * dp * dp)\n",
        "\n",
        "    return x, w\n",
        "\n",
        "def gaussxwab(N, a, b):\n",
        "    x, w = gaussxw(N)\n",
        "    return 0.5 * (b - a) * x + 0.5 * (b + a), 0.5 * (b - a) * w\n",
        "\n",
        "def eta(T):\n",
        "    b = h * c / (lambda_1 * k * T)\n",
        "    a = h * c / (lambda_2 * k * T)\n",
        "\n",
        "    def f(x):\n",
        "        return (x ** 3) / (np.exp(x) - 1)\n",
        "\n",
        "    x, w = gaussxwab(100, a, b)\n",
        "    y = f(x)\n",
        "\n",
        "    integral = 0\n",
        "    for i in range(0, N):\n",
        "        integral += w[i] * y[i]\n",
        "\n",
        "    return integral * (15 / (np.pi ** 4))\n",
        "\n",
        "T = np.linspace(300, 10000, 101)\n",
        "efficiency = [eta(T_i) for T_i in T]\n",
        "\n",
        "plt.plot(T, efficiency)\n",
        "plt.title(\"Efficiency at Different Temperature\")\n",
        "plt.xlabel(\"T / K\")\n",
        "plt.show()"
      ],
      "metadata": {
        "colab": {
          "base_uri": "https://localhost:8080/",
          "height": 472
        },
        "id": "v4_4uKSbO49v",
        "outputId": "85051c95-6b76-46ce-e8c0-f8b28dbb50c6"
      },
      "execution_count": 106,
      "outputs": [
        {
          "output_type": "display_data",
          "data": {
            "text/plain": [
              "<Figure size 640x480 with 1 Axes>"
            ],
            "image/png": "[encoded data removed]"
          },
          "metadata": {}
        }
      ]
    },
    {
      "cell_type": "markdown",
      "source": [
        "**(b)**"
      ],
      "metadata": {
        "id": "TBx2oRrWR463"
      }
    },
    {
      "cell_type": "code",
      "source": [
        "tol = 1\n",
        "\n",
        "def golden_ratio(f, a, b):\n",
        "    phi = (1 + np.sqrt(5)) / 2\n",
        "    c = b - (b - a) / phi\n",
        "    d = a + (b - a) / phi\n",
        "\n",
        "    while abs(b - a) > tol:\n",
        "        if f(c) > f(d):\n",
        "            b = d\n",
        "        else:\n",
        "            a = c\n",
        "\n",
        "        c = b - (b - a) / phi\n",
        "        d = a + (b - a) / phi\n",
        "\n",
        "    return (b + a) / 2\n",
        "\n",
        "max_point = golden_ratio(eta, 300, 10000)\n",
        "print(\"The maximum efficiency appears approximately at T =\", max_point, \"K\")"
      ],
      "metadata": {
        "colab": {
          "base_uri": "https://localhost:8080/"
        },
        "id": "MsKVzHS5TW6C",
        "outputId": "a480b32c-aaaf-4943-b68f-7286fe69199b"
      },
      "execution_count": 110,
      "outputs": [
        {
          "output_type": "stream",
          "name": "stdout",
          "text": [
            "The maximum efficiency appears approximately at T = 6928.506344246048 K\n"
          ]
        }
      ]
    },
    {
      "cell_type": "markdown",
      "source": [
        "**(c)** No. The melting point of tungsten is $3695 \\text{K}$, which is lower than the temperature with maximum efficiency ($6928.5 \\text{K}$)."
      ],
      "metadata": {
        "id": "1qPfH5faUn62"
      }
    }
  ]
}