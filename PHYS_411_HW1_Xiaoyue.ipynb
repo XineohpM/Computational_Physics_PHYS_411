{
  "cells": [
    {
      "cell_type": "markdown",
      "metadata": {
        "id": "view-in-github",
        "colab_type": "text"
      },
      "source": [
        "<a href=\"https://colab.research.google.com/github/XineohpM/Computational_Physics_PHYS_411/blob/main/PHYS_411_HW1_Xiaoyue.ipynb\" target=\"_parent\"><img src=\"https://colab.research.google.com/assets/colab-badge.svg\" alt=\"Open In Colab\"/></a>"
      ]
    },
    {
      "cell_type": "markdown",
      "metadata": {
        "id": "AqGtoJzPCtHG"
      },
      "source": [
        "## 1. Exercise 2.10\n",
        "\n",
        "**(a)** Write a program that takes as its input the values of A and Z, and prints out the binding energy for the corresponding atom. Use your program to find the binding energy of an atom with A = 58 and Z = 28. (Hint: The correct answer is around 500 MeV.)"
      ]
    },
    {
      "cell_type": "code",
      "execution_count": null,
      "metadata": {
        "id": "LAJeuDl9Co2k"
      },
      "outputs": [],
      "source": [
        "def binding_energy(a, z):\n",
        "  a1 = 15.8\n",
        "  a2 = 18.3\n",
        "  a3 = 0.714\n",
        "  a4 = 23.2\n",
        "  if a % 2 != 0:\n",
        "    a5 = 0\n",
        "  elif a % 2 == 0 and z % 2 == 0:\n",
        "    a5 = 12.0\n",
        "  else :\n",
        "    a5 = -12.0\n",
        "  b = a1 * a - a2 * (a ** (2/3)) - a3 * (z ** 2) / (a ** (1/3)) - a4 * ((a - 2 * z) ** 2) / a + a5 / (a ** (1/2))\n",
        "  return b\n",
        "\n",
        "a = int(input(\"Please enter the mass number (A): \"))\n",
        "z = int(input(\"Please enter the atomic number (Z): \"))\n",
        "\n",
        "energy = binding_energy(a, z)\n",
        "print(\"The binding energy is:\", energy)"
      ]
    },
    {
      "cell_type": "markdown",
      "metadata": {
        "id": "5ziCHhkIHACn"
      },
      "source": [
        "The binding energy of an atom with A = 58 and Z = 28 is 497.562 MeV."
      ]
    },
    {
      "cell_type": "markdown",
      "metadata": {
        "id": "idrVxBkZIZ6U"
      },
      "source": [
        "**(b)** Modify your program to print out not the total binding energy B, but the binding energy per nucleon, which is B/A."
      ]
    },
    {
      "cell_type": "code",
      "execution_count": null,
      "metadata": {
        "id": "Af23FSpiImyS"
      },
      "outputs": [],
      "source": [
        "def binding_energy(a, z):\n",
        "  a1 = 15.8\n",
        "  a2 = 18.3\n",
        "  a3 = 0.714\n",
        "  a4 = 23.2\n",
        "  if a % 2 != 0:\n",
        "    a5 = 0\n",
        "  elif a % 2 == 0 and z % 2 == 0:\n",
        "    a5 = 12.0\n",
        "  else :\n",
        "    a5 = -12.0\n",
        "  b = a1 * a - a2 * (a ** (2/3)) - a3 * (z ** 2) / (a ** (1/3)) - a4 * ((a - 2 * z) ** 2) / a + a5 / (a ** (1/2))\n",
        "  return b\n",
        "\n",
        "a = int(input(\"Please enter the mass number (A): \"))\n",
        "z = int(input(\"Please enter the atomic number (Z): \"))\n",
        "\n",
        "energy = binding_energy(a, z)\n",
        "print(\"The binding energy per nucleon is:\", energy / a)"
      ]
    },
    {
      "cell_type": "markdown",
      "metadata": {
        "id": "EhmqbLphJnEP"
      },
      "source": [
        "**(c)** Now modify your program so that it takes as input just a single value of the atomic number Z and then goes through all values of A from A = Z to A = 3Z, to find the one that has the largest binding energy per nucleon. This is the most stable nucleus with the given atomic number. Have your program print out the value of A for this most stable nucleus and the value of the binding energy per nucleon."
      ]
    },
    {
      "cell_type": "code",
      "execution_count": null,
      "metadata": {
        "colab": {
          "base_uri": "https://localhost:8080/"
        },
        "id": "3zd-Lz6LJzXp",
        "outputId": "f5d949c2-125d-4b7c-c625-af662e662bef"
      },
      "outputs": [
        {
          "name": "stdout",
          "output_type": "stream",
          "text": [
            "Please enter the atomic number (Z): 28\n",
            "The value of A for this most stable nucleus is: 62\n",
            "The value of the binding energy per nucleon for this most stable nucleus is: 8.70245768367189\n"
          ]
        }
      ],
      "source": [
        "def binding_energy(a, z):\n",
        "  a1 = 15.8\n",
        "  a2 = 18.3\n",
        "  a3 = 0.714\n",
        "  a4 = 23.2\n",
        "  if a % 2 != 0:\n",
        "    a5 = 0\n",
        "  elif a % 2 == 0 and z % 2 == 0:\n",
        "    a5 = 12.0\n",
        "  else :\n",
        "    a5 = -12.0\n",
        "  b = a1 * a - a2 * (a ** (2/3)) - a3 * (z ** 2) / (a ** (1/3)) - a4 * ((a - 2 * z) ** 2) / a + a5 / (a ** (1/2))\n",
        "  return b\n",
        "\n",
        "z = int(input(\"Please enter the atomic number (Z): \"))\n",
        "most_stable_a = z\n",
        "energy_per_nucleon = 0\n",
        "\n",
        "for a in range(z, 3 * z + 1):\n",
        "  energy = binding_energy(a, z)\n",
        "  if energy / a > energy_per_nucleon:\n",
        "    energy_per_nucleon = energy / a\n",
        "    most_stable_a = a\n",
        "\n",
        "print(\"The value of A for this most stable nucleus is:\", most_stable_a)\n",
        "print(\"The value of the binding energy per nucleon for this most stable nucleus is:\", energy_per_nucleon)"
      ]
    },
    {
      "cell_type": "markdown",
      "metadata": {
        "id": "EcRZtCJPMd-i"
      },
      "source": [
        "**(d)** Modify your program again so that, instead of taking Z as input, it runs through all values of Z from 1 to 100 and prints out the most stable value of A for each one. At what value of Z does the maximum binding energy per nucleon occur? (The true answer, in real life, is Z = 28, which is nickel.)"
      ]
    },
    {
      "cell_type": "code",
      "execution_count": null,
      "metadata": {
        "colab": {
          "base_uri": "https://localhost:8080/"
        },
        "id": "riBYdjy5Mk_P",
        "outputId": "7d3bcb56-1f9d-49ec-e92e-2f22ac15da43"
      },
      "outputs": [
        {
          "name": "stdout",
          "output_type": "stream",
          "text": [
            "The value of A for this most stable nucleus with Z =  1 is: 3\n",
            "The value of A for this most stable nucleus with Z =  2 is: 4\n",
            "The value of A for this most stable nucleus with Z =  3 is: 7\n",
            "The value of A for this most stable nucleus with Z =  4 is: 8\n",
            "The value of A for this most stable nucleus with Z =  5 is: 11\n",
            "The value of A for this most stable nucleus with Z =  6 is: 14\n",
            "The value of A for this most stable nucleus with Z =  7 is: 15\n",
            "The value of A for this most stable nucleus with Z =  8 is: 18\n",
            "The value of A for this most stable nucleus with Z =  9 is: 19\n",
            "The value of A for this most stable nucleus with Z =  10 is: 22\n",
            "The value of A for this most stable nucleus with Z =  11 is: 25\n",
            "The value of A for this most stable nucleus with Z =  12 is: 26\n",
            "The value of A for this most stable nucleus with Z =  13 is: 29\n",
            "The value of A for this most stable nucleus with Z =  14 is: 30\n",
            "The value of A for this most stable nucleus with Z =  15 is: 33\n",
            "The value of A for this most stable nucleus with Z =  16 is: 36\n",
            "The value of A for this most stable nucleus with Z =  17 is: 37\n",
            "The value of A for this most stable nucleus with Z =  18 is: 40\n",
            "The value of A for this most stable nucleus with Z =  19 is: 43\n",
            "The value of A for this most stable nucleus with Z =  20 is: 44\n",
            "The value of A for this most stable nucleus with Z =  21 is: 47\n",
            "The value of A for this most stable nucleus with Z =  22 is: 48\n",
            "The value of A for this most stable nucleus with Z =  23 is: 51\n",
            "The value of A for this most stable nucleus with Z =  24 is: 54\n",
            "The value of A for this most stable nucleus with Z =  25 is: 55\n",
            "The value of A for this most stable nucleus with Z =  26 is: 58\n",
            "The value of A for this most stable nucleus with Z =  27 is: 61\n",
            "The value of A for this most stable nucleus with Z =  28 is: 62\n",
            "The value of A for this most stable nucleus with Z =  29 is: 65\n",
            "The value of A for this most stable nucleus with Z =  30 is: 68\n",
            "The value of A for this most stable nucleus with Z =  31 is: 69\n",
            "The value of A for this most stable nucleus with Z =  32 is: 72\n",
            "The value of A for this most stable nucleus with Z =  33 is: 75\n",
            "The value of A for this most stable nucleus with Z =  34 is: 76\n",
            "The value of A for this most stable nucleus with Z =  35 is: 79\n",
            "The value of A for this most stable nucleus with Z =  36 is: 82\n",
            "The value of A for this most stable nucleus with Z =  37 is: 85\n",
            "The value of A for this most stable nucleus with Z =  38 is: 86\n",
            "The value of A for this most stable nucleus with Z =  39 is: 89\n",
            "The value of A for this most stable nucleus with Z =  40 is: 92\n",
            "The value of A for this most stable nucleus with Z =  41 is: 93\n",
            "The value of A for this most stable nucleus with Z =  42 is: 96\n",
            "The value of A for this most stable nucleus with Z =  43 is: 99\n",
            "The value of A for this most stable nucleus with Z =  44 is: 102\n",
            "The value of A for this most stable nucleus with Z =  45 is: 103\n",
            "The value of A for this most stable nucleus with Z =  46 is: 106\n",
            "The value of A for this most stable nucleus with Z =  47 is: 109\n",
            "The value of A for this most stable nucleus with Z =  48 is: 110\n",
            "The value of A for this most stable nucleus with Z =  49 is: 113\n",
            "The value of A for this most stable nucleus with Z =  50 is: 116\n",
            "The value of A for this most stable nucleus with Z =  51 is: 119\n",
            "The value of A for this most stable nucleus with Z =  52 is: 120\n",
            "The value of A for this most stable nucleus with Z =  53 is: 123\n",
            "The value of A for this most stable nucleus with Z =  54 is: 126\n",
            "The value of A for this most stable nucleus with Z =  55 is: 129\n",
            "The value of A for this most stable nucleus with Z =  56 is: 130\n",
            "The value of A for this most stable nucleus with Z =  57 is: 133\n",
            "The value of A for this most stable nucleus with Z =  58 is: 136\n",
            "The value of A for this most stable nucleus with Z =  59 is: 139\n",
            "The value of A for this most stable nucleus with Z =  60 is: 140\n",
            "The value of A for this most stable nucleus with Z =  61 is: 143\n",
            "The value of A for this most stable nucleus with Z =  62 is: 146\n",
            "The value of A for this most stable nucleus with Z =  63 is: 149\n",
            "The value of A for this most stable nucleus with Z =  64 is: 150\n",
            "The value of A for this most stable nucleus with Z =  65 is: 153\n",
            "The value of A for this most stable nucleus with Z =  66 is: 156\n",
            "The value of A for this most stable nucleus with Z =  67 is: 159\n",
            "The value of A for this most stable nucleus with Z =  68 is: 162\n",
            "The value of A for this most stable nucleus with Z =  69 is: 163\n",
            "The value of A for this most stable nucleus with Z =  70 is: 166\n",
            "The value of A for this most stable nucleus with Z =  71 is: 169\n",
            "The value of A for this most stable nucleus with Z =  72 is: 172\n",
            "The value of A for this most stable nucleus with Z =  73 is: 175\n",
            "The value of A for this most stable nucleus with Z =  74 is: 176\n",
            "The value of A for this most stable nucleus with Z =  75 is: 179\n",
            "The value of A for this most stable nucleus with Z =  76 is: 182\n",
            "The value of A for this most stable nucleus with Z =  77 is: 185\n",
            "The value of A for this most stable nucleus with Z =  78 is: 188\n",
            "The value of A for this most stable nucleus with Z =  79 is: 191\n",
            "The value of A for this most stable nucleus with Z =  80 is: 192\n",
            "The value of A for this most stable nucleus with Z =  81 is: 195\n",
            "The value of A for this most stable nucleus with Z =  82 is: 198\n",
            "The value of A for this most stable nucleus with Z =  83 is: 201\n",
            "The value of A for this most stable nucleus with Z =  84 is: 204\n",
            "The value of A for this most stable nucleus with Z =  85 is: 205\n",
            "The value of A for this most stable nucleus with Z =  86 is: 208\n",
            "The value of A for this most stable nucleus with Z =  87 is: 211\n",
            "The value of A for this most stable nucleus with Z =  88 is: 214\n",
            "The value of A for this most stable nucleus with Z =  89 is: 217\n",
            "The value of A for this most stable nucleus with Z =  90 is: 220\n",
            "The value of A for this most stable nucleus with Z =  91 is: 223\n",
            "The value of A for this most stable nucleus with Z =  92 is: 224\n",
            "The value of A for this most stable nucleus with Z =  93 is: 227\n",
            "The value of A for this most stable nucleus with Z =  94 is: 230\n",
            "The value of A for this most stable nucleus with Z =  95 is: 233\n",
            "The value of A for this most stable nucleus with Z =  96 is: 236\n",
            "The value of A for this most stable nucleus with Z =  97 is: 239\n",
            "The value of A for this most stable nucleus with Z =  98 is: 242\n",
            "The value of A for this most stable nucleus with Z =  99 is: 243\n",
            "The value of A for this most stable nucleus with Z =  100 is: 246\n",
            "The value of Z for the most stable nucleus is: 28\n"
          ]
        }
      ],
      "source": [
        "def binding_energy(a, z):\n",
        "  a1 = 15.8\n",
        "  a2 = 18.3\n",
        "  a3 = 0.714\n",
        "  a4 = 23.2\n",
        "  if a % 2 != 0:\n",
        "    a5 = 0\n",
        "  elif a % 2 == 0 and z % 2 == 0:\n",
        "    a5 = 12.0\n",
        "  else :\n",
        "    a5 = -12.0\n",
        "  b = a1 * a - a2 * (a ** (2/3)) - a3 * (z ** 2) / (a ** (1/3)) - a4 * ((a - 2 * z) ** 2) / a + a5 / (a ** (1/2))\n",
        "  return b\n",
        "\n",
        "most_stable_a = 1\n",
        "most_stable_z = 1\n",
        "energy_per_nucleon = 0\n",
        "max_energy = 0\n",
        "energy_list = []\n",
        "\n",
        "for z in range(1, 101):\n",
        "  energy_per_nucleon = 0\n",
        "  for a in range(z, 3 * z + 1):\n",
        "    energy = binding_energy(a, z)\n",
        "    if energy / a > energy_per_nucleon:\n",
        "      energy_per_nucleon = energy / a\n",
        "      most_stable_a = a\n",
        "  energy_list.append(energy_per_nucleon)\n",
        "  print(\"The value of A for this most stable nucleus with Z = \", z, \"is:\", most_stable_a)\n",
        "\n",
        "for z in range(1, 101):\n",
        "  if energy_list[z - 1] > max_energy:\n",
        "    max_energy = energy_list[z - 1]\n",
        "    most_stable_z = z\n",
        "\n",
        "print(\"The value of Z for the most stable nucleus is:\", most_stable_z)"
      ]
    },
    {
      "cell_type": "markdown",
      "metadata": {
        "id": "r-MgKWpRQQRs"
      },
      "source": [
        "At Z = 28, the maximum binding energy per nucleon occurs."
      ]
    },
    {
      "cell_type": "markdown",
      "metadata": {
        "id": "SY1JF2lmQtYi"
      },
      "source": [
        "## 2. Exercise 2.11"
      ]
    },
    {
      "cell_type": "markdown",
      "metadata": {
        "id": "ak8g4ifpQ41W"
      },
      "source": [
        "**(a)** Using this form for the binomial coefficient, write a Python user-defined function binomial(n,k) that calculates the binomial coefficient for given n and k. Make sure your function returns the answer in the form of an integer (not a float) and gives the correct value of 1 for the case where k = 0."
      ]
    },
    {
      "cell_type": "code",
      "execution_count": null,
      "metadata": {
        "id": "ipoNhLynRNDG"
      },
      "outputs": [],
      "source": [
        "def binomial(n,k):\n",
        "  def factorial(i):\n",
        "    factorial_result = 1\n",
        "    for j in range(1, i + 1):\n",
        "      factorial_result *= j\n",
        "    return int(factorial_result)\n",
        "  return int(factorial(n) / (factorial(k) * factorial(n - k)))"
      ]
    },
    {
      "cell_type": "markdown",
      "metadata": {
        "id": "Yq8a4snMud5Q"
      },
      "source": [
        "**(b)** Using your function write a program to print out the first 20 lines of \"Pascal's triangle.\" The nth line of Pascal's triangle contains n + 1 numbers, which are the coefficients $\\left( \\begin{gathered}n\\\\ 0\\end{gathered} \\right)  ,\\left( \\begin{gathered}n\\\\ 1\\end{gathered} \\right)  $ and so on up to $\\left( \\begin{gathered}n\\\\ n\\end{gathered} \\right)  $. Thus the first few lines are $$\\begin{gathered}1\\  1\\\\ 1\\  2\\  1\\\\ 1\\  3\\  3\\  1\\\\ 1\\  4\\  6\\  4\\  1\\\\ \\end{gathered} $$\n"
      ]
    },
    {
      "cell_type": "code",
      "execution_count": null,
      "metadata": {
        "colab": {
          "base_uri": "https://localhost:8080/"
        },
        "id": "2SZg90T0xIxn",
        "outputId": "c0154304-f75b-47f8-9c28-2ea848bc8c35"
      },
      "outputs": [
        {
          "name": "stdout",
          "output_type": "stream",
          "text": [
            "1 1 \n",
            "1 2 1 \n",
            "1 3 3 1 \n",
            "1 4 6 4 1 \n",
            "1 5 10 10 5 1 \n",
            "1 6 15 20 15 6 1 \n",
            "1 7 21 35 35 21 7 1 \n",
            "1 8 28 56 70 56 28 8 1 \n",
            "1 9 36 84 126 126 84 36 9 1 \n",
            "1 10 45 120 210 252 210 120 45 10 1 \n",
            "1 11 55 165 330 462 462 330 165 55 11 1 \n",
            "1 12 66 220 495 792 924 792 495 220 66 12 1 \n",
            "1 13 78 286 715 1287 1716 1716 1287 715 286 78 13 1 \n",
            "1 14 91 364 1001 2002 3003 3432 3003 2002 1001 364 91 14 1 \n",
            "1 15 105 455 1365 3003 5005 6435 6435 5005 3003 1365 455 105 15 1 \n",
            "1 16 120 560 1820 4368 8008 11440 12870 11440 8008 4368 1820 560 120 16 1 \n",
            "1 17 136 680 2380 6188 12376 19448 24310 24310 19448 12376 6188 2380 680 136 17 1 \n",
            "1 18 153 816 3060 8568 18564 31824 43758 48620 43758 31824 18564 8568 3060 816 153 18 1 \n",
            "1 19 171 969 3876 11628 27132 50388 75582 92378 92378 75582 50388 27132 11628 3876 969 171 19 1 \n",
            "1 20 190 1140 4845 15504 38760 77520 125970 167960 184756 167960 125970 77520 38760 15504 4845 1140 190 20 1 \n"
          ]
        }
      ],
      "source": [
        "for n in range(1, 21):\n",
        "  for k in range(n + 1):\n",
        "    print(binomial(n, k), end=\" \")\n",
        "  print()"
      ]
    },
    {
      "cell_type": "markdown",
      "metadata": {
        "id": "63VfaNYDOEl6"
      },
      "source": [
        "**(c)** The probability that an unbiased coin, tossed n times, will come up heads k times\n",
        "is $\\left( \\begin{gathered}n\\\\ k\\end{gathered} \\right)  /2^{n}$. Write a program to calculate (i) the total probability that a coin tossed\n",
        "100 times comes up heads exactly 60 times, and (ii) the probability that it comes\n",
        "up heads 60 or more times."
      ]
    },
    {
      "cell_type": "code",
      "execution_count": null,
      "metadata": {
        "colab": {
          "base_uri": "https://localhost:8080/"
        },
        "id": "GR7tGQuhObWk",
        "outputId": "3c5976bf-58ad-4ff2-e116-7ef7bfe10ff0"
      },
      "outputs": [
        {
          "name": "stdout",
          "output_type": "stream",
          "text": [
            "The total probability that a coin tossed 100 times comes up heads exactly 60 times is: 0.010843866711637987\n",
            "The probability that it comes up heads 60 or more times is: 0.028443966820490392\n"
          ]
        }
      ],
      "source": [
        "print(\"The total probability that a coin tossed 100 times comes up heads exactly 60 times is:\", binomial(100, 60) / (2 ** 100))\n",
        "\n",
        "probability = 0\n",
        "for i in range(60, 101):\n",
        "  probability += binomial(100, i) / (2 ** 100)\n",
        "\n",
        "print(\"The probability that it comes up heads 60 or more times is:\", probability)"
      ]
    },
    {
      "cell_type": "markdown",
      "metadata": {
        "id": "D3cSjaEzkb4c"
      },
      "source": [
        "(i) The total probability that a coin tossed 100 times comes up heads exactly 60 times is: 0.010843866711637987.\n",
        "\n",
        "(ii) The probability that it comes up heads 60 or more times is: 0.028443966820490392."
      ]
    },
    {
      "cell_type": "markdown",
      "metadata": {
        "id": "7fe3IHSMkpx0"
      },
      "source": [
        "## 3. Exercise 2.13\n",
        "\n"
      ]
    },
    {
      "cell_type": "markdown",
      "metadata": {
        "id": "RKdANKq7k0DW"
      },
      "source": [
        "**(a)** We encountered the Catalan numbers $C_{n}$ previously in Exercise 2.7 on page 46. With just a little rearrangement, the definition given there can be rewritten in the form\n",
        "$$C_{n}=\\begin{cases}1&\\text{if} \\  n=0,\\\\ \\frac{4n-2}{n+1} C_{n-1}&\\text{if} \\  n>0.\\end{cases} $$\n",
        "Write a Python function, using recursion, that calculates $C_{n}$. Use your function to calculate and print $C_{100}$."
      ]
    },
    {
      "cell_type": "code",
      "execution_count": null,
      "metadata": {
        "id": "htub9I7FloG2"
      },
      "outputs": [],
      "source": [
        "def catalan(n):\n",
        "    if n == 0:\n",
        "        return 1\n",
        "    else:\n",
        "        return catalan(n - 1) * (4 * n - 2) // (n + 1)\n",
        "\n",
        "print(\"The value of C_100 is:\", catalan(100))"
      ]
    },
    {
      "cell_type": "markdown",
      "metadata": {
        "id": "XnfhVpLMozK1"
      },
      "source": [
        "**(b)** Euclid showed that the greatest common divisor g(m, n) of two nonnegative integers m and n satisfies\n",
        "$$g(m,n)=\\begin{cases}m&\\text{if} \\  n=0,\\\\ g(n,m\\  \\text{mod} \\  n)&\\text{if} \\  n>0.\\end{cases} $$\n",
        "Write a Python function g(m,n) that employs recursion to calculate the greatest common divisor of m and n using this formula. Use your function to calculate and print the greatest common divisor of 108 and 192."
      ]
    },
    {
      "cell_type": "code",
      "execution_count": null,
      "metadata": {
        "colab": {
          "base_uri": "https://localhost:8080/"
        },
        "id": "8Y7rFXKnpRGY",
        "outputId": "7ae102bf-db47-4217-8a56-c0aefa0ea6a1"
      },
      "outputs": [
        {
          "name": "stdout",
          "output_type": "stream",
          "text": [
            "The greatest common divisor of 108 and 192 is: 12\n"
          ]
        }
      ],
      "source": [
        "def g(m,n):\n",
        "  if n == 0:\n",
        "    return int(m)\n",
        "  else:\n",
        "    return int(g(n, m % n))\n",
        "\n",
        "print(\"The greatest common divisor of 108 and 192 is:\", g(108, 192))"
      ]
    },
    {
      "cell_type": "markdown",
      "metadata": {
        "id": "G2GL5zzyqKKz"
      },
      "source": [
        "## 4. Exercise 3.6"
      ]
    },
    {
      "cell_type": "markdown",
      "metadata": {
        "id": "9Wwre5AP0sCC"
      },
      "source": [
        "Write a program that calculates and displays the behavior of the logistic map. Here’s what you need to do. For a given value of $r$, start with $x = 1/2$, and iterate the logistic map equation a thousand times. That will give it a chance to settle down to a fixed point or limit cycle if it's going to. Then run for another thousand iterations and plot the points $(r, x)$ on a graph where the horizontal axis is rand the vertical axis is $x$. You can either use the plot function with the options \"ko\" or \"k.\" to draw a graph with dots, one for each point, or you can use the scatter function to draw a scatter plot (which always uses dots). Repeat the whole calculation for values of $r$ from 1 to 4 in steps of 0.01, plotting the dots for all values of $r$ on the same figure and then finally using the function **show** once to display the complete figure."
      ]
    },
    {
      "cell_type": "code",
      "execution_count": null,
      "metadata": {
        "colab": {
          "base_uri": "https://localhost:8080/",
          "height": 521
        },
        "id": "w_urtN60pr0E",
        "outputId": "e13caa30-0514-468f-9592-4849030f627e"
      },
      "outputs": [
        {
          "name": "stdout",
          "output_type": "stream",
          "text": [
            "[0.5, 0.375, 0.3515625, 0.341949462890625, 0.3375300415791571, 0.3354052689160944, 0.33436286174912516, 0.3338465076480908, 0.33358952546889614, 0.3334613309494993, 0.3333973075663317, 0.33336531431077876, 0.3333493222878816, 0.33334132742713746, 0.33333733028437706, 0.33333533178489183, 0.33333433255312184, 0.33333383294172997, 0.3333335831371573, 0.33333345823515165, 0.33333339578421906, 0.33333336455877033, 0.3333333489460503, 0.33333334113969143, 0.33333333723651226, 0.3333333352849228, 0.3333333343091281, 0.33333333382123076, 0.33333333357728206, 0.33333333345530763, 0.3333333333943204, 0.3333333333638268, 0.33333333334858, 0.3333333333409567, 0.33333333333714504, 0.3333333333352391, 0.3333333333342863, 0.3333333333338098, 0.3333333333335716, 0.3333333333334525, 0.33333333333339293, 0.33333333333336307, 0.33333333333334825, 0.3333333333333408, 0.3333333333333371, 0.33333333333333526, 0.3333333333333343, 0.33333333333333376, 0.3333333333333336, 0.3333333333333335, 0.3333333333333334, 0.3333333333333333, 0.33333333333333337, 0.3333333333333333, 0.33333333333333337, 0.3333333333333333, 0.33333333333333337, 0.3333333333333333, 0.33333333333333337, 0.3333333333333333, 0.33333333333333337, 0.3333333333333333, 0.33333333333333337, 0.3333333333333333, 0.33333333333333337, 0.3333333333333333, 0.33333333333333337, 0.3333333333333333, 0.33333333333333337, 0.3333333333333333, 0.33333333333333337, 0.3333333333333333, 0.33333333333333337, 0.3333333333333333, 0.33333333333333337, 0.3333333333333333, 0.33333333333333337, 0.3333333333333333, 0.33333333333333337, 0.3333333333333333, 0.33333333333333337, 0.3333333333333333, 0.33333333333333337, 0.3333333333333333, 0.33333333333333337, 0.3333333333333333, 0.33333333333333337, 0.3333333333333333, 0.33333333333333337, 0.3333333333333333, 0.33333333333333337, 0.3333333333333333, 0.33333333333333337, 0.3333333333333333, 0.33333333333333337, 0.3333333333333333, 0.33333333333333337, 0.3333333333333333, 0.33333333333333337, 0.3333333333333333, 0.33333333333333337, 0.3333333333333333, 0.33333333333333337, 0.3333333333333333, 0.33333333333333337, 0.3333333333333333, 0.33333333333333337, 0.3333333333333333, 0.33333333333333337, 0.3333333333333333, 0.33333333333333337, 0.3333333333333333, 0.33333333333333337, 0.3333333333333333, 0.33333333333333337, 0.3333333333333333, 0.33333333333333337, 0.3333333333333333, 0.33333333333333337, 0.3333333333333333, 0.33333333333333337, 0.3333333333333333, 0.33333333333333337, 0.3333333333333333, 0.33333333333333337, 0.3333333333333333, 0.33333333333333337, 0.3333333333333333, 0.33333333333333337, 0.3333333333333333, 0.33333333333333337, 0.3333333333333333, 0.33333333333333337, 0.3333333333333333, 0.33333333333333337, 0.3333333333333333, 0.33333333333333337, 0.3333333333333333, 0.33333333333333337, 0.3333333333333333, 0.33333333333333337, 0.3333333333333333, 0.33333333333333337, 0.3333333333333333, 0.33333333333333337, 0.3333333333333333, 0.33333333333333337, 0.3333333333333333, 0.33333333333333337, 0.3333333333333333, 0.33333333333333337, 0.3333333333333333, 0.33333333333333337, 0.3333333333333333, 0.33333333333333337, 0.3333333333333333, 0.33333333333333337, 0.3333333333333333, 0.33333333333333337, 0.3333333333333333, 0.33333333333333337, 0.3333333333333333, 0.33333333333333337, 0.3333333333333333, 0.33333333333333337, 0.3333333333333333, 0.33333333333333337, 0.3333333333333333, 0.33333333333333337, 0.3333333333333333, 0.33333333333333337, 0.3333333333333333, 0.33333333333333337, 0.3333333333333333, 0.33333333333333337, 0.3333333333333333, 0.33333333333333337, 0.3333333333333333, 0.33333333333333337, 0.3333333333333333, 0.33333333333333337, 0.3333333333333333, 0.33333333333333337, 0.3333333333333333, 0.33333333333333337, 0.3333333333333333, 0.33333333333333337, 0.3333333333333333, 0.33333333333333337, 0.3333333333333333, 0.33333333333333337, 0.3333333333333333, 0.33333333333333337, 0.3333333333333333, 0.33333333333333337, 0.3333333333333333, 0.33333333333333337, 0.3333333333333333, 0.33333333333333337, 0.3333333333333333, 0.33333333333333337, 0.3333333333333333, 0.33333333333333337, 0.3333333333333333, 0.33333333333333337, 0.3333333333333333, 0.33333333333333337, 0.3333333333333333, 0.33333333333333337, 0.3333333333333333, 0.33333333333333337, 0.3333333333333333, 0.33333333333333337, 0.3333333333333333, 0.33333333333333337, 0.3333333333333333, 0.33333333333333337, 0.3333333333333333, 0.33333333333333337, 0.3333333333333333, 0.33333333333333337, 0.3333333333333333, 0.33333333333333337, 0.3333333333333333, 0.33333333333333337, 0.3333333333333333, 0.33333333333333337, 0.3333333333333333, 0.33333333333333337, 0.3333333333333333, 0.33333333333333337, 0.3333333333333333, 0.33333333333333337, 0.3333333333333333, 0.33333333333333337, 0.3333333333333333, 0.33333333333333337, 0.3333333333333333, 0.33333333333333337, 0.3333333333333333, 0.33333333333333337, 0.3333333333333333, 0.33333333333333337, 0.3333333333333333, 0.33333333333333337, 0.3333333333333333, 0.33333333333333337, 0.3333333333333333, 0.33333333333333337, 0.3333333333333333, 0.33333333333333337, 0.3333333333333333, 0.33333333333333337, 0.3333333333333333, 0.33333333333333337, 0.3333333333333333, 0.33333333333333337, 0.3333333333333333, 0.33333333333333337, 0.3333333333333333, 0.33333333333333337, 0.3333333333333333, 0.33333333333333337, 0.3333333333333333, 0.33333333333333337, 0.3333333333333333, 0.33333333333333337, 0.3333333333333333, 0.33333333333333337, 0.3333333333333333, 0.33333333333333337, 0.3333333333333333, 0.33333333333333337, 0.3333333333333333, 0.33333333333333337, 0.3333333333333333, 0.33333333333333337, 0.3333333333333333, 0.33333333333333337, 0.3333333333333333, 0.33333333333333337, 0.3333333333333333, 0.33333333333333337, 0.3333333333333333, 0.33333333333333337, 0.3333333333333333, 0.33333333333333337, 0.3333333333333333, 0.33333333333333337, 0.3333333333333333, 0.33333333333333337, 0.3333333333333333, 0.33333333333333337, 0.3333333333333333, 0.33333333333333337, 0.3333333333333333, 0.33333333333333337, 0.3333333333333333, 0.33333333333333337, 0.3333333333333333, 0.33333333333333337, 0.3333333333333333, 0.33333333333333337, 0.3333333333333333, 0.33333333333333337, 0.3333333333333333, 0.33333333333333337, 0.3333333333333333, 0.33333333333333337, 0.3333333333333333, 0.33333333333333337, 0.3333333333333333, 0.33333333333333337, 0.3333333333333333, 0.33333333333333337, 0.3333333333333333, 0.33333333333333337, 0.3333333333333333, 0.33333333333333337, 0.3333333333333333, 0.33333333333333337, 0.3333333333333333, 0.33333333333333337, 0.3333333333333333, 0.33333333333333337, 0.3333333333333333, 0.33333333333333337, 0.3333333333333333, 0.33333333333333337, 0.3333333333333333, 0.33333333333333337, 0.3333333333333333, 0.33333333333333337, 0.3333333333333333, 0.33333333333333337, 0.3333333333333333, 0.33333333333333337, 0.3333333333333333, 0.33333333333333337, 0.3333333333333333, 0.33333333333333337, 0.3333333333333333, 0.33333333333333337, 0.3333333333333333, 0.33333333333333337, 0.3333333333333333, 0.33333333333333337, 0.3333333333333333, 0.33333333333333337, 0.3333333333333333, 0.33333333333333337, 0.3333333333333333, 0.33333333333333337, 0.3333333333333333, 0.33333333333333337, 0.3333333333333333, 0.33333333333333337, 0.3333333333333333, 0.33333333333333337, 0.3333333333333333, 0.33333333333333337, 0.3333333333333333, 0.33333333333333337, 0.3333333333333333, 0.33333333333333337, 0.3333333333333333, 0.33333333333333337, 0.3333333333333333, 0.33333333333333337, 0.3333333333333333, 0.33333333333333337, 0.3333333333333333, 0.33333333333333337, 0.3333333333333333, 0.33333333333333337, 0.3333333333333333, 0.33333333333333337, 0.3333333333333333, 0.33333333333333337, 0.3333333333333333, 0.33333333333333337, 0.3333333333333333, 0.33333333333333337, 0.3333333333333333, 0.33333333333333337, 0.3333333333333333, 0.33333333333333337, 0.3333333333333333, 0.33333333333333337, 0.3333333333333333, 0.33333333333333337, 0.3333333333333333, 0.33333333333333337, 0.3333333333333333, 0.33333333333333337, 0.3333333333333333, 0.33333333333333337, 0.3333333333333333, 0.33333333333333337, 0.3333333333333333, 0.33333333333333337, 0.3333333333333333, 0.33333333333333337, 0.3333333333333333, 0.33333333333333337, 0.3333333333333333, 0.33333333333333337, 0.3333333333333333, 0.33333333333333337, 0.3333333333333333, 0.33333333333333337, 0.3333333333333333, 0.33333333333333337, 0.3333333333333333, 0.33333333333333337, 0.3333333333333333, 0.33333333333333337, 0.3333333333333333, 0.33333333333333337, 0.3333333333333333, 0.33333333333333337, 0.3333333333333333, 0.33333333333333337, 0.3333333333333333, 0.33333333333333337, 0.3333333333333333, 0.33333333333333337, 0.3333333333333333, 0.33333333333333337, 0.3333333333333333, 0.33333333333333337, 0.3333333333333333, 0.33333333333333337, 0.3333333333333333, 0.33333333333333337, 0.3333333333333333, 0.33333333333333337, 0.3333333333333333, 0.33333333333333337, 0.3333333333333333, 0.33333333333333337, 0.3333333333333333, 0.33333333333333337, 0.3333333333333333, 0.33333333333333337, 0.3333333333333333, 0.33333333333333337, 0.3333333333333333, 0.33333333333333337, 0.3333333333333333, 0.33333333333333337, 0.3333333333333333, 0.33333333333333337, 0.3333333333333333, 0.33333333333333337, 0.3333333333333333, 0.33333333333333337, 0.3333333333333333, 0.33333333333333337, 0.3333333333333333, 0.33333333333333337, 0.3333333333333333, 0.33333333333333337, 0.3333333333333333, 0.33333333333333337, 0.3333333333333333, 0.33333333333333337, 0.3333333333333333, 0.33333333333333337, 0.3333333333333333, 0.33333333333333337, 0.3333333333333333, 0.33333333333333337, 0.3333333333333333, 0.33333333333333337, 0.3333333333333333, 0.33333333333333337, 0.3333333333333333, 0.33333333333333337, 0.3333333333333333, 0.33333333333333337, 0.3333333333333333, 0.33333333333333337, 0.3333333333333333, 0.33333333333333337, 0.3333333333333333, 0.33333333333333337, 0.3333333333333333, 0.33333333333333337, 0.3333333333333333, 0.33333333333333337, 0.3333333333333333, 0.33333333333333337, 0.3333333333333333, 0.33333333333333337, 0.3333333333333333, 0.33333333333333337, 0.3333333333333333, 0.33333333333333337, 0.3333333333333333, 0.33333333333333337, 0.3333333333333333, 0.33333333333333337, 0.3333333333333333, 0.33333333333333337, 0.3333333333333333, 0.33333333333333337, 0.3333333333333333, 0.33333333333333337, 0.3333333333333333, 0.33333333333333337, 0.3333333333333333, 0.33333333333333337, 0.3333333333333333, 0.33333333333333337, 0.3333333333333333, 0.33333333333333337, 0.3333333333333333, 0.33333333333333337, 0.3333333333333333, 0.33333333333333337, 0.3333333333333333, 0.33333333333333337, 0.3333333333333333, 0.33333333333333337, 0.3333333333333333, 0.33333333333333337, 0.3333333333333333, 0.33333333333333337, 0.3333333333333333, 0.33333333333333337, 0.3333333333333333, 0.33333333333333337, 0.3333333333333333, 0.33333333333333337, 0.3333333333333333, 0.33333333333333337, 0.3333333333333333, 0.33333333333333337, 0.3333333333333333, 0.33333333333333337, 0.3333333333333333, 0.33333333333333337, 0.3333333333333333, 0.33333333333333337, 0.3333333333333333, 0.33333333333333337, 0.3333333333333333, 0.33333333333333337, 0.3333333333333333, 0.33333333333333337, 0.3333333333333333, 0.33333333333333337, 0.3333333333333333, 0.33333333333333337, 0.3333333333333333, 0.33333333333333337, 0.3333333333333333, 0.33333333333333337, 0.3333333333333333, 0.33333333333333337, 0.3333333333333333, 0.33333333333333337, 0.3333333333333333, 0.33333333333333337, 0.3333333333333333, 0.33333333333333337, 0.3333333333333333, 0.33333333333333337, 0.3333333333333333, 0.33333333333333337, 0.3333333333333333, 0.33333333333333337, 0.3333333333333333, 0.33333333333333337, 0.3333333333333333, 0.33333333333333337, 0.3333333333333333, 0.33333333333333337, 0.3333333333333333, 0.33333333333333337, 0.3333333333333333, 0.33333333333333337, 0.3333333333333333, 0.33333333333333337, 0.3333333333333333, 0.33333333333333337, 0.3333333333333333, 0.33333333333333337, 0.3333333333333333, 0.33333333333333337, 0.3333333333333333, 0.33333333333333337, 0.3333333333333333, 0.33333333333333337, 0.3333333333333333, 0.33333333333333337, 0.3333333333333333, 0.33333333333333337, 0.3333333333333333, 0.33333333333333337, 0.3333333333333333, 0.33333333333333337, 0.3333333333333333, 0.33333333333333337, 0.3333333333333333, 0.33333333333333337, 0.3333333333333333, 0.33333333333333337, 0.3333333333333333, 0.33333333333333337, 0.3333333333333333, 0.33333333333333337, 0.3333333333333333, 0.33333333333333337, 0.3333333333333333, 0.33333333333333337, 0.3333333333333333, 0.33333333333333337, 0.3333333333333333, 0.33333333333333337, 0.3333333333333333, 0.33333333333333337, 0.3333333333333333, 0.33333333333333337, 0.3333333333333333, 0.33333333333333337, 0.3333333333333333, 0.33333333333333337, 0.3333333333333333, 0.33333333333333337, 0.3333333333333333, 0.33333333333333337, 0.3333333333333333, 0.33333333333333337, 0.3333333333333333, 0.33333333333333337, 0.3333333333333333, 0.33333333333333337, 0.3333333333333333, 0.33333333333333337, 0.3333333333333333, 0.33333333333333337, 0.3333333333333333, 0.33333333333333337, 0.3333333333333333, 0.33333333333333337, 0.3333333333333333, 0.33333333333333337, 0.3333333333333333, 0.33333333333333337, 0.3333333333333333, 0.33333333333333337, 0.3333333333333333, 0.33333333333333337, 0.3333333333333333, 0.33333333333333337, 0.3333333333333333, 0.33333333333333337, 0.3333333333333333, 0.33333333333333337, 0.3333333333333333, 0.33333333333333337, 0.3333333333333333, 0.33333333333333337, 0.3333333333333333, 0.33333333333333337, 0.3333333333333333, 0.33333333333333337, 0.3333333333333333, 0.33333333333333337, 0.3333333333333333, 0.33333333333333337, 0.3333333333333333, 0.33333333333333337, 0.3333333333333333, 0.33333333333333337, 0.3333333333333333, 0.33333333333333337, 0.3333333333333333, 0.33333333333333337, 0.3333333333333333, 0.33333333333333337, 0.3333333333333333, 0.33333333333333337, 0.3333333333333333, 0.33333333333333337, 0.3333333333333333, 0.33333333333333337, 0.3333333333333333, 0.33333333333333337, 0.3333333333333333, 0.33333333333333337, 0.3333333333333333, 0.33333333333333337, 0.3333333333333333, 0.33333333333333337, 0.3333333333333333, 0.33333333333333337, 0.3333333333333333, 0.33333333333333337, 0.3333333333333333, 0.33333333333333337, 0.3333333333333333, 0.33333333333333337, 0.3333333333333333, 0.33333333333333337, 0.3333333333333333, 0.33333333333333337, 0.3333333333333333, 0.33333333333333337, 0.3333333333333333, 0.33333333333333337, 0.3333333333333333, 0.33333333333333337, 0.3333333333333333, 0.33333333333333337, 0.3333333333333333, 0.33333333333333337, 0.3333333333333333, 0.33333333333333337, 0.3333333333333333, 0.33333333333333337, 0.3333333333333333, 0.33333333333333337, 0.3333333333333333, 0.33333333333333337, 0.3333333333333333, 0.33333333333333337, 0.3333333333333333, 0.33333333333333337, 0.3333333333333333, 0.33333333333333337, 0.3333333333333333, 0.33333333333333337, 0.3333333333333333, 0.33333333333333337, 0.3333333333333333, 0.33333333333333337, 0.3333333333333333, 0.33333333333333337, 0.3333333333333333, 0.33333333333333337, 0.3333333333333333, 0.33333333333333337, 0.3333333333333333, 0.33333333333333337, 0.3333333333333333, 0.33333333333333337, 0.3333333333333333, 0.33333333333333337, 0.3333333333333333, 0.33333333333333337, 0.3333333333333333, 0.33333333333333337, 0.3333333333333333, 0.33333333333333337, 0.3333333333333333, 0.33333333333333337, 0.3333333333333333, 0.33333333333333337, 0.3333333333333333, 0.33333333333333337, 0.3333333333333333, 0.33333333333333337, 0.3333333333333333, 0.33333333333333337, 0.3333333333333333, 0.33333333333333337, 0.3333333333333333, 0.33333333333333337, 0.3333333333333333, 0.33333333333333337, 0.3333333333333333, 0.33333333333333337, 0.3333333333333333, 0.33333333333333337, 0.3333333333333333, 0.33333333333333337, 0.3333333333333333, 0.33333333333333337, 0.3333333333333333, 0.33333333333333337, 0.3333333333333333, 0.33333333333333337, 0.3333333333333333, 0.33333333333333337, 0.3333333333333333, 0.33333333333333337, 0.3333333333333333, 0.33333333333333337, 0.3333333333333333, 0.33333333333333337, 0.3333333333333333, 0.33333333333333337, 0.3333333333333333, 0.33333333333333337, 0.3333333333333333, 0.33333333333333337, 0.3333333333333333, 0.33333333333333337, 0.3333333333333333, 0.33333333333333337, 0.3333333333333333, 0.33333333333333337, 0.3333333333333333, 0.33333333333333337, 0.3333333333333333, 0.33333333333333337, 0.3333333333333333, 0.33333333333333337, 0.3333333333333333, 0.33333333333333337, 0.3333333333333333, 0.33333333333333337, 0.3333333333333333, 0.33333333333333337, 0.3333333333333333, 0.33333333333333337, 0.3333333333333333, 0.33333333333333337, 0.3333333333333333, 0.33333333333333337, 0.3333333333333333, 0.33333333333333337, 0.3333333333333333, 0.33333333333333337, 0.3333333333333333, 0.33333333333333337, 0.3333333333333333, 0.33333333333333337, 0.3333333333333333, 0.33333333333333337, 0.3333333333333333, 0.33333333333333337, 0.3333333333333333, 0.33333333333333337, 0.3333333333333333, 0.33333333333333337, 0.3333333333333333, 0.33333333333333337, 0.3333333333333333, 0.33333333333333337, 0.3333333333333333, 0.33333333333333337, 0.3333333333333333, 0.33333333333333337, 0.3333333333333333, 0.33333333333333337, 0.3333333333333333, 0.33333333333333337, 0.3333333333333333, 0.33333333333333337, 0.3333333333333333, 0.33333333333333337, 0.3333333333333333, 0.33333333333333337, 0.3333333333333333, 0.33333333333333337, 0.3333333333333333, 0.33333333333333337, 0.3333333333333333, 0.33333333333333337, 0.3333333333333333, 0.33333333333333337, 0.3333333333333333, 0.33333333333333337, 0.3333333333333333, 0.33333333333333337, 0.3333333333333333, 0.33333333333333337, 0.3333333333333333, 0.33333333333333337, 0.3333333333333333, 0.33333333333333337, 0.3333333333333333, 0.33333333333333337, 0.3333333333333333, 0.33333333333333337, 0.3333333333333333, 0.33333333333333337, 0.3333333333333333, 0.33333333333333337, 0.3333333333333333, 0.33333333333333337, 0.3333333333333333, 0.33333333333333337, 0.3333333333333333, 0.33333333333333337, 0.3333333333333333, 0.33333333333333337, 0.3333333333333333, 0.33333333333333337, 0.3333333333333333, 0.33333333333333337, 0.3333333333333333, 0.33333333333333337, 0.3333333333333333, 0.33333333333333337, 0.3333333333333333, 0.33333333333333337, 0.3333333333333333, 0.33333333333333337, 0.3333333333333333, 0.33333333333333337, 0.3333333333333333, 0.33333333333333337, 0.3333333333333333, 0.33333333333333337, 0.3333333333333333, 0.33333333333333337, 0.3333333333333333, 0.33333333333333337, 0.3333333333333333, 0.33333333333333337, 0.3333333333333333, 0.33333333333333337, 0.3333333333333333, 0.33333333333333337, 0.3333333333333333, 0.33333333333333337, 0.3333333333333333, 0.33333333333333337, 0.3333333333333333, 0.33333333333333337, 0.3333333333333333, 0.33333333333333337, 0.3333333333333333, 0.33333333333333337, 0.3333333333333333, 0.33333333333333337, 0.3333333333333333, 0.33333333333333337, 0.3333333333333333, 0.33333333333333337, 0.3333333333333333, 0.33333333333333337, 0.3333333333333333, 0.33333333333333337, 0.3333333333333333, 0.33333333333333337, 0.3333333333333333, 0.33333333333333337, 0.3333333333333333, 0.33333333333333337, 0.3333333333333333, 0.33333333333333337, 0.3333333333333333, 0.33333333333333337, 0.3333333333333333, 0.33333333333333337, 0.3333333333333333, 0.33333333333333337, 0.3333333333333333, 0.33333333333333337, 0.3333333333333333, 0.33333333333333337, 0.3333333333333333, 0.33333333333333337, 0.3333333333333333, 0.33333333333333337, 0.3333333333333333, 0.33333333333333337, 0.3333333333333333, 0.33333333333333337, 0.3333333333333333, 0.33333333333333337, 0.3333333333333333, 0.33333333333333337, 0.3333333333333333, 0.33333333333333337, 0.3333333333333333, 0.33333333333333337, 0.3333333333333333, 0.33333333333333337, 0.3333333333333333, 0.33333333333333337, 0.3333333333333333, 0.33333333333333337, 0.3333333333333333, 0.33333333333333337, 0.3333333333333333, 0.33333333333333337, 0.3333333333333333, 0.33333333333333337, 0.3333333333333333, 0.33333333333333337, 0.3333333333333333, 0.33333333333333337, 0.3333333333333333, 0.33333333333333337, 0.3333333333333333, 0.33333333333333337, 0.3333333333333333, 0.33333333333333337, 0.3333333333333333, 0.33333333333333337, 0.3333333333333333, 0.33333333333333337, 0.3333333333333333]\n",
            "The logistic map function with r = 1.5 and x = 1/2 settle down to a fixed point with x =  0.3333333333333333\n"
          ]
        },
        {
          "name": "stderr",
          "output_type": "stream",
          "text": [
            "<ipython-input-8-177e874679cd>:6: RuntimeWarning: overflow encountered in double_scalars\n",
            "  return r * x * (1 - x)\n"
          ]
        },
        {
          "data": {
            "image/png": "[encoded data removed]",
            "text/plain": [
              "<Figure size 640x480 with 1 Axes>"
            ]
          },
          "metadata": {},
          "output_type": "display_data"
        }
      ],
      "source": [
        "import numpy as np\n",
        "import matplotlib.pyplot as plt\n",
        "\n",
        "\n",
        "def logistic_map(r, x):\n",
        "  return r * x * (1 - x)\n",
        "\n",
        "x = 1 / 2\n",
        "map_list = []\n",
        "for i in range(1000):\n",
        "  map_list.append(x)\n",
        "  x = logistic_map(1.5, x)\n",
        "\n",
        "print(map_list)\n",
        "print(\"The logistic map function with r = 1.5 and x = 1/2 settle down to a fixed point with x = \", map_list[999])\n",
        "\n",
        "map_list = []\n",
        "for r in np.arange(1, 4.01, 0.01):\n",
        "  x = 1 / 2\n",
        "  for i in range(1000):\n",
        "    x = logistic_map(r, x)\n",
        "  for i in range(1000):\n",
        "        x = logistic_map(r, x)\n",
        "        map_list.append((r, x))\n",
        "\n",
        "x_values = [item[0] for item in map_list]\n",
        "y_values = [item[1] for item in map_list]\n",
        "plt.scatter(x_values, y_values, s = 0.1)\n",
        "plt.show()"
      ]
    },
    {
      "cell_type": "markdown",
      "metadata": {
        "id": "yplmPy9u7taU"
      },
      "source": [
        "**(a)** For a given value of $r$ what would a fixed point look like on the\n",
        "Feigenbaum plot? How about a limit cycle? And what would chaos look like?"
      ]
    },
    {
      "cell_type": "markdown",
      "metadata": {
        "id": "RWZZdP7L8lwK"
      },
      "source": [
        "For a given value of $r$, a fixed point looks like a single point, a limit cycle looks like a set of several fixed points lining up, and chaos looks like a lot of scattered points in a line."
      ]
    },
    {
      "cell_type": "markdown",
      "metadata": {
        "id": "E1d9A-BW9BtK"
      },
      "source": [
        "**(b)** Based on your plot, at what value of $r$ does the system move from orderly behavior (fixed points or limit cycles) to chaotic behavior? This point is sometimes called the \"edge of chaos.\""
      ]
    },
    {
      "cell_type": "markdown",
      "metadata": {
        "id": "Vrnp_5A89RCz"
      },
      "source": [
        "At $r\\approx 3.57$, the system move from limit cycles to chaos."
      ]
    },
    {
      "cell_type": "markdown",
      "metadata": {
        "id": "rkCD6dZ__ROr"
      },
      "source": [
        "## 5. Exercise 3.7"
      ]
    },
    {
      "cell_type": "code",
      "execution_count": null,
      "metadata": {
        "id": "1vrlsF16BwmX"
      },
      "outputs": [],
      "source": [
        "import numpy as np\n",
        "import matplotlib.pyplot as plt\n",
        "\n",
        "\n",
        "def mandelbrot(z, c):\n",
        "  return (z * z) + c\n",
        "\n",
        "n = 1000\n",
        "start = -2\n",
        "end = 2\n",
        "step = (end - start) / n\n",
        "mandelbrot_set = np.zeros((n, n))\n",
        "\n",
        "for x in range(n):\n",
        "  for y in range(n):\n",
        "    z = 0\n",
        "    re = start + x * step\n",
        "    im = start + y * step\n",
        "    c = complex(re, im)\n",
        "    for i in range(100):\n",
        "      z = mandelbrot(z, c)\n",
        "    if abs(z) <= 2:\n",
        "      mandelbrot_set[y, x] = 1\n",
        "\n",
        "plt.imshow(mandelbrot_set, extent=[start, end, start, end], cmap='binary')\n",
        "plt.title('Mandelbrot Set')\n",
        "plt.xlabel('Re(c)')\n",
        "plt.ylabel('Im(c)')\n",
        "plt.show()"
      ]
    },
    {
      "cell_type": "code",
      "execution_count": null,
      "metadata": {
        "colab": {
          "background_save": true
        },
        "id": "3fApbNZeM_1n",
        "outputId": "24205ae1-6ae1-4e64-d0a2-abb33a983787"
      },
      "outputs": [
        {
          "data": {
            "image/png": "[encoded data removed]",
            "text/plain": [
              "<Figure size 640x480 with 2 Axes>"
            ]
          },
          "metadata": {},
          "output_type": "display_data"
        }
      ],
      "source": [
        "import numpy as np\n",
        "import matplotlib.pyplot as plt\n",
        "\n",
        "\n",
        "def mandelbrot(z, c):\n",
        "  return (z * z) + c\n",
        "\n",
        "n = 1000\n",
        "start = -2\n",
        "end = 2\n",
        "step = (end - start) / n\n",
        "mandelbrot_set = np.zeros((n, n))\n",
        "\n",
        "for x in range(n):\n",
        "  for y in range(n):\n",
        "    z = 0\n",
        "    re = start + x * step\n",
        "    im = start + y * step\n",
        "    c = complex(re, im)\n",
        "    for i in range(100):\n",
        "      if abs(z) > 2:\n",
        "        break\n",
        "      z = mandelbrot(z, c)\n",
        "    mandelbrot_set[y, x] = i\n",
        "\n",
        "plt.imshow(mandelbrot_set, extent=[start, end, start, end], cmap='hot')\n",
        "plt.colorbar()\n",
        "plt.title('Mandelbrot Set')\n",
        "plt.xlabel('Re(c)')\n",
        "plt.ylabel('Im(c)')\n",
        "plt.show()"
      ]
    },
    {
      "cell_type": "markdown",
      "metadata": {
        "id": "b8iCd9qUTM1o"
      },
      "source": [
        "## 6. Exercise 3.8"
      ]
    },
    {
      "cell_type": "markdown",
      "metadata": {
        "id": "UFSkPYB3TM3z"
      },
      "source": [
        "**(a)**  In the on-line resources you will find a file called **millikan.txt**. The file contains two columns of numbers, giving the $x$ and $y$ coordinates of a set of data points. Write a program to read these data points and make a graph with one dot or circle for each point."
      ]
    },
    {
      "cell_type": "code",
      "execution_count": null,
      "metadata": {
        "id": "AP1WLLeFaVbw"
      },
      "outputs": [],
      "source": [
        "import requests\n",
        "import matplotlib.pyplot as plt\n",
        "\n",
        "\n",
        "url = \"https://public.websites.umich.edu/~mejn/cp/data/millikan.txt\"\n",
        "response = requests.get(url)\n",
        "lines = response.text.splitlines()\n",
        "\n",
        "x = []\n",
        "y = []\n",
        "for line in lines:\n",
        "  value = line.split(\" \")\n",
        "  x.append(float(value[0]))\n",
        "  y.append(float(value[1]))\n",
        "\n",
        "plt.scatter(x, y)"
      ]
    },
    {
      "cell_type": "markdown",
      "metadata": {
        "id": "Rj1cYRtueOKT"
      },
      "source": [
        "**(b)** Add code to your program, before the part that makes the graph, to calculate the quantities $E_{x}$, $E_{y}$, $E_{xx}$, and $E_{xy}$ defined above, and from them calculate and print out the slope $m$ and intercept $c$ of the best-fit line."
      ]
    },
    {
      "cell_type": "code",
      "execution_count": null,
      "metadata": {
        "id": "92lA7Aqkat3H"
      },
      "outputs": [],
      "source": [
        "E_x = 0\n",
        "E_y = 0\n",
        "E_xx = 0\n",
        "E_xy = 0\n",
        "\n",
        "for i in range(0, len(x)):\n",
        "  E_x += x[i]\n",
        "  E_y += y[i]\n",
        "  E_xx += (x[i] ** 2)\n",
        "  E_xy += (x[i] * y[i])\n",
        "E_x /= len(x)\n",
        "E_y /= len(x)\n",
        "E_xx /= len(x)\n",
        "E_xy /= len(x)\n",
        "\n",
        "m = (E_xy - E_x * E_y) / (E_xx - E_x ** 2)\n",
        "c = (E_xx * E_y - E_xy * E_x) / (E_xx - E_x ** 2)\n",
        "\n",
        "print(\"The slope of the best-fit line is:\", m)\n",
        "print(\"The intersept of the best-fit line is:\", c)"
      ]
    },
    {
      "cell_type": "markdown",
      "metadata": {
        "id": "Mle1EgebegQv"
      },
      "source": [
        "**(c)** Now write code that goes through each of the data points in tum and evaluates the quantity $mx_{i} + c$ using the values of $m$ and $c$ that you calculated. Store these values in a new array or list, and then graph this new array, as a solid line, on the same plot as the original data. You should end up with a plot of the data points plus a straight line that runs through them."
      ]
    },
    {
      "cell_type": "code",
      "execution_count": null,
      "metadata": {
        "id": "TWAOODWPcuKX"
      },
      "outputs": [],
      "source": [
        "import requests\n",
        "import matplotlib.pyplot as plt\n",
        "\n",
        "\n",
        "url = \"https://public.websites.umich.edu/~mejn/cp/data/millikan.txt\"\n",
        "response = requests.get(url)\n",
        "lines = response.text.splitlines()\n",
        "\n",
        "x = []\n",
        "y = []\n",
        "for line in lines:\n",
        "  value = line.split(\" \")\n",
        "  x.append(float(value[0]))\n",
        "  y.append(float(value[1]))\n",
        "\n",
        "plt.scatter(x, y)\n",
        "\n",
        "E_x = 0\n",
        "E_y = 0\n",
        "E_xx = 0\n",
        "E_xy = 0\n",
        "\n",
        "for i in range(0, len(x)):\n",
        "  E_x += x[i]\n",
        "  E_y += y[i]\n",
        "  E_xx += (x[i] ** 2)\n",
        "  E_xy += (x[i] * y[i])\n",
        "E_x /= len(x)\n",
        "E_y /= len(x)\n",
        "E_xx /= len(x)\n",
        "E_xy /= len(x)\n",
        "\n",
        "m = (E_xy - E_x * E_y) / (E_xx - E_x ** 2)\n",
        "c = (E_xx * E_y - E_xy * E_x) / (E_xx - E_x ** 2)\n",
        "\n",
        "fit = []\n",
        "for i in range(0, len(x)):\n",
        "  fit.append(m * x[i] + c)\n",
        "\n",
        "plt.plot(x, fit)\n",
        "plt.show()"
      ]
    },
    {
      "cell_type": "markdown",
      "metadata": {
        "id": "krdMZkongExc"
      },
      "source": [
        "**(d)** The data in the file **millikan.txt** are taken from a historic experiment by Robert Millikan that measured the photoelectric effect. When light of an appropriate wavelength is shone on the surface of a metal, the photons in the light can strike conduction electrons in the metal and, sometimes, eject them from the surface into the free space above. The energy of an ejected electron is equal to the energy of the photon that struck it minus a small amount $\\phi $ called the work function of the surface, which represents the energy needed to remove an electron from the surface.\n",
        "The energy of a photon is $h\\nu $, where $h$ is Planck's constant and $\\nu $ is the frequency of the light, and we can measure the energy of an ejected electron by measuring the voltage $V$ that is just sufficient to stop the electron moving. Then the voltage, frequency, and work function are related by the equation\n",
        "$$V=\\frac{h}{e} \\nu -\\phi $$,\n",
        "where $e$ is the charge on the electron. This equation was first given by Albert Einstein in 1905.\n",
        "The data in the file millikan. txt represent frequencies $\\nu $ in hertz (first column) and voltages $V$ in volts (second column) from photoelectric measurements of this kind. Using the equation above and the program you wrote, and given that the charge on the electron is $1.602 x 10^{-19} \\ \\text{C}$, calculate from Millikan's experimental data a value for Planck's constant. Compare your value with the accepted value of the constant, which you can find in books or on-line. You should get a result within a couple of percent of the accepted value."
      ]
    },
    {
      "cell_type": "code",
      "execution_count": null,
      "metadata": {
        "id": "qbsoQ819hSej"
      },
      "outputs": [],
      "source": [
        "e = 1.602e-19\n",
        "h = m * e\n",
        "print(\"The experimental value of Planck's constant is:\", h)\n",
        "h_actual = 6.62607015e-34\n",
        "percent_error = ((h - h_actual) / h_actual) * 100\n",
        "print(\"The percent error is:\", percent_error, \"%\")"
      ]
    },
    {
      "cell_type": "markdown",
      "metadata": {
        "id": "ChYGaOixi1Uk"
      },
      "source": [
        "## 7. Exercise\n",
        "\n",
        "Let $a$ be a nonnegative real number, for any positive real number $x_{0}$, the sequence generated by the rule $x_{n+1}=\\frac{x_{n}+\\frac{a}{x_{n}} }{2} $ for $n=0, 1, 2, …$ converges to $\\sqrt{a} $. Write a python program to calculate $\\sqrt{2} $ with a precision that is better than $10^{-6}$ (the precision can be calculated as the absolute difference between\n",
        "$x_{n}$ and $x_{n+1}$)."
      ]
    },
    {
      "cell_type": "code",
      "execution_count": null,
      "metadata": {
        "id": "K69DVc3MDnTB"
      },
      "outputs": [],
      "source": [
        "def sqrt_sequence(a):\n",
        "  x = 1\n",
        "  n = 0\n",
        "  while True:\n",
        "    if abs(((x + a / x) / 2) - x) < 1e-6:\n",
        "      break\n",
        "    x = (x + a / x) / 2\n",
        "    n += 1\n",
        "  return x\n",
        "\n",
        "print(\"The calculated value for sqrt(2) is:\", sqrt_sequence(2))"
      ]
    }
  ],
  "metadata": {
    "colab": {
      "collapsed_sections": [
        "AqGtoJzPCtHG",
        "SY1JF2lmQtYi",
        "7fe3IHSMkpx0",
        "G2GL5zzyqKKz",
        "rkCD6dZ__ROr",
        "b8iCd9qUTM1o",
        "ChYGaOixi1Uk"
      ],
      "provenance": [],
      "authorship_tag": "ABX9TyMs/eJV1TwxkEsFq7TZm+Xl",
      "include_colab_link": true
    },
    "kernelspec": {
      "display_name": "Python 3",
      "name": "python3"
    },
    "language_info": {
      "name": "python"
    }
  },
  "nbformat": 4,
  "nbformat_minor": 0
}